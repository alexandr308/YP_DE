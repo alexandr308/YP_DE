{
 "cells": [
  {
   "cell_type": "markdown",
   "metadata": {},
   "source": [
    "#### Александр, привет! \n",
    "\n",
    "Меня зовут Максим Попов, и я буду проверять твой проект. Давай будем общаться на «ты». Но если тебе комфортнее на «вы», обязательно сообщи мне об этом. \n",
    "По ходу тетрадки ты найдешь комментарии к проекту, они будут в отдельных ячейках Markdown с заголовком «Комментарий ревьюера». Постарайся учесть эти комментарии для дальнейших проектов.\n",
    "\n",
    "---\n",
    "\n",
    "Я буду отмечать комментарии цветом и примечанием. В конце заголовка комментария будет указан номер итерации проверки. Пожалуйста, не удаляй и не правь мои комментарии\n",
    "\n",
    "Критично - требует исправления, влияет на удачное выполнение проекта\n",
    "\n",
    "Рекомендация - комментарий является рекомендацией или советом. Mожешь учесть их при выполнении будущих заданий. На твое усмотрение\n",
    "\n",
    "Отлично - Так отмечены удачные решения и подходы, на которые стоит опираться в будущих проектах\n",
    "\n",
    "<div class=\"alert alert-block alert-danger\">\n",
    "    \n",
    "\n",
    "### Комментарий от ревьюера\n",
    "Критично\n",
    "\n",
    "Такой комментарий нужно исправить обязательно, он критически влияет на удачное выполнение проекта.\n",
    "</div>\n",
    "    \n",
    "---\n",
    "\n",
    "<div class=\"alert alert-block alert-warning\">\n",
    "    \n",
    "\n",
    "### Комментарий от ревьюера\n",
    "Рекомендация\n",
    "\n",
    "Такой комментарий является рекомендацией или советом. Mожешь учесть их при выполнении будущих заданий. На твое усмотрение. \n",
    "</div>\n",
    "\n",
    "---\n",
    "\n",
    "<div class=\"alert alert-block alert-success\">\n",
    "    \n",
    "\n",
    "### Комментарий от ревьюера\n",
    "Отлично\n",
    "    \n",
    "Так отмечены удачные решения и подходы, на которые стоит опираться в будущих проектах\n",
    "</div>"
   ]
  },
  {
   "cell_type": "markdown",
   "metadata": {},
   "source": [
    "<div class=\"alert alert-block alert-success\">\n",
    "    \n",
    "\n",
    "### Комментарий от ревьюера v_1 \n",
    "    \n",
    "Александр, ты отлично разобрался с запросами, ошибки, которые нашел, неочевидны\n",
    "    \n",
    "Код в запросах у тебя достаточно чистый, но рекомендую ознакомиться с общепринятым стилем оформления кода в SQL\n",
    "    \n",
    "https://www.sqlstyle.guide/ru/\n",
    "        \n",
    "Подробные комментарии по ходу работы\n",
    "    \n",
    "Желтые комментарии-рекомендации на твое усмотрение.\n",
    "    \n",
    "Если есть вопросы ко мне, можешь оставить их в отдельном комментарии\n",
    "    \n",
    "</div>"
   ]
  },
  {
   "cell_type": "markdown",
   "metadata": {},
   "source": [
    "<div class=\"alert alert-block alert-success\">\n",
    "    \n",
    "\n",
    "### Комментарий от ревьюера v_2\n",
    "    \n",
    "Александр, привет!\n",
    "    \n",
    "С фильтрацией дат разобрался 👍\n",
    "    \n",
    "Осталось в шестом запросе фильтрацию подправить и все ОК \n",
    "    \n",
    "</div>"
   ]
  },
  {
   "cell_type": "markdown",
   "metadata": {},
   "source": [
    "<div class=\"alert alert-block alert-success\">\n",
    "    \n",
    "\n",
    "### Комментарий от ревьюера v_3\n",
    "    \n",
    "Александр, привет!\n",
    "    \n",
    "Отлично, все критичные комментарии отработаны!\n",
    "    \n",
    "Если у тебя пока небольшой опыт работы с SQL, для дальнейшего изучения рекомендую следующие ресурсы:\n",
    "    \n",
    "1. https://datalearn.ru/kurs-po-sql \n",
    "    \n",
    "Сразу к последней части переходи, к MS SQL Server, там много полезной инфы будет уже про создание таблиц, хранимые процедуры и т. п. \n",
    "    \n",
    "2. https://stepik.org/course/3203/promo\n",
    "    \n",
    "Тут уже про то, что под капотом SQL (было бы неплохо ориентироваться в алгоритмах для прохождения, очень рекомендую книгу \"Грокаем алгоритмы\", чтобы вдохновиться и понять, что алгоритмы - это не сложно, а увлекательно и красиво)\n",
    "    \n",
    "В данном спринте рассматривались форточки в оконках, далеко не самая простая тема со множеством подводных камней. Рекомендую изучить эту статью, отлично рассказано и показано как работает данный функционал\n",
    "    \n",
    "https://habr.com/ru/company/otus/blog/490296/\n",
    "    \n",
    "Успеха в дальнейшем обучении!\n",
    "    \n",
    "</div>"
   ]
  },
  {
   "cell_type": "markdown",
   "metadata": {
    "id": "sRW85nPMDWKb"
   },
   "source": [
    "В этой части проекта вам нужно написать несколько SQL-запросов в Jupyter Notebook. Эти задания проверят вручную, и вы получите комментарии к составленным запросам. \n",
    "\n",
    "Необходимые данные находятся в таблицах схемы `stackoverflow`. Не забудьте подключиться к базе с помощью SQLAlchemy. Вспомните инструкцию из [урока про представление результатов](https://practicum.yandex.ru/learn/data-analyst-plus/courses/96ccbf7a-b65d-4f51-b5f3-18360ad1e301/sprints/6116/topics/27f7c9a7-a474-4a82-8392-b3f069b26f69/lessons/e12d84bb-ffa8-490c-8bde-0935d86ceccb/). Пример кода для подключения к базе и выгрузки результатов вы найдёте и в этой тетрадке. \n",
    "\n",
    "Некоторые задания включают дополнительные вопросы — не пропустите их. На часть вопросов можно ответить текстом, а для некоторых понадобится визуализация. Помните, что результат запроса можно выгрузить в датафрейм. \n",
    "\n",
    "Чтобы ожидаемый результат было легче представить, мы добавили к каждому заданию небольшой фрагмент итоговой таблицы. В запросах вы можете использовать любые подходящие названия полей."
   ]
  },
  {
   "cell_type": "code",
   "execution_count": 1,
   "metadata": {
    "id": "nlZBlglMDWKe"
   },
   "outputs": [
    {
     "data": {
      "text/html": [
       "<style>.container { width:95% !important; }</style>"
      ],
      "text/plain": [
       "<IPython.core.display.HTML object>"
      ]
     },
     "metadata": {},
     "output_type": "display_data"
    }
   ],
   "source": [
    "import pandas as pd\n",
    "import seaborn as sns\n",
    "import matplotlib.pyplot as plt\n",
    "from sqlalchemy import create_engine \n",
    "\n",
    "from IPython.core.display import display, HTML\n",
    "display(HTML(\"<style>.container { width:95% !important; }</style>\"))\n",
    "\n",
    "pd.options.display.max_rows = 100\n",
    "pd.options.display.max_columns = 100"
   ]
  },
  {
   "cell_type": "markdown",
   "metadata": {
    "id": "XnOE3n28DWKg"
   },
   "source": [
    "### Конфигурация для подключения к базе данных `data-analyst-advanced-sql`\n",
    "Эта база данных содержит схему `stackoverflow`, с которой вы будете работать в проекте"
   ]
  },
  {
   "cell_type": "code",
   "execution_count": 2,
   "metadata": {
    "id": "6p-yGp7qDWKg"
   },
   "outputs": [],
   "source": [
    "db_config = {\n",
    "    'user': 'praktikum_student', # имя пользователя\n",
    "    'pwd': 'Sdf4$2;d-d30pp', # пароль\n",
    "    'host': 'rc1b-wcoijxj3yxfsf3fs.mdb.yandexcloud.net',\n",
    "    'port': 6432, # порт подключения\n",
    "    'db': 'data-analyst-advanced-sql' # название базы данных\n",
    "}  \n",
    "\n",
    "connection_string = 'postgresql://{}:{}@{}:{}/{}'.format(\n",
    "    db_config['user'],\n",
    "    db_config['pwd'],\n",
    "    db_config['host'],\n",
    "    db_config['port'],\n",
    "    db_config['db'],\n",
    ")"
   ]
  },
  {
   "cell_type": "markdown",
   "metadata": {
    "id": "2Rg8ZpS0DWKh"
   },
   "source": [
    "Создание подключения"
   ]
  },
  {
   "cell_type": "code",
   "execution_count": 3,
   "metadata": {
    "id": "DamCUTR6DWKi"
   },
   "outputs": [],
   "source": [
    "engine = create_engine(connection_string) "
   ]
  },
  {
   "cell_type": "markdown",
   "metadata": {
    "id": "bel8XeSlDWKj"
   },
   "source": [
    "Пример запроса к базе данных\n",
    "\n",
    "`sample_df` является pandas-датафреймом."
   ]
  },
  {
   "cell_type": "code",
   "execution_count": 4,
   "metadata": {
    "id": "6Z_fw0yLDWKk"
   },
   "outputs": [],
   "source": [
    "query = '''\n",
    "    SELECT *\n",
    "    FROM stackoverflow.users\n",
    "    LIMIT 10;\n",
    "'''\n",
    "\n",
    "sample_df = pd.read_sql_query(query, con=engine) "
   ]
  },
  {
   "cell_type": "code",
   "execution_count": 5,
   "metadata": {
    "id": "ZpuZ290oDWKk",
    "outputId": "22785a0a-e2bc-4559-ec3c-4879c4b377eb"
   },
   "outputs": [
    {
     "data": {
      "text/html": [
       "<div>\n",
       "<style scoped>\n",
       "    .dataframe tbody tr th:only-of-type {\n",
       "        vertical-align: middle;\n",
       "    }\n",
       "\n",
       "    .dataframe tbody tr th {\n",
       "        vertical-align: top;\n",
       "    }\n",
       "\n",
       "    .dataframe thead th {\n",
       "        text-align: right;\n",
       "    }\n",
       "</style>\n",
       "<table border=\"1\" class=\"dataframe\">\n",
       "  <thead>\n",
       "    <tr style=\"text-align: right;\">\n",
       "      <th></th>\n",
       "      <th>id</th>\n",
       "      <th>creation_date</th>\n",
       "      <th>display_name</th>\n",
       "      <th>last_access_date</th>\n",
       "      <th>location</th>\n",
       "      <th>reputation</th>\n",
       "      <th>views</th>\n",
       "    </tr>\n",
       "  </thead>\n",
       "  <tbody>\n",
       "    <tr>\n",
       "      <th>0</th>\n",
       "      <td>1</td>\n",
       "      <td>2008-07-31 14:22:31</td>\n",
       "      <td>Jeff Atwood</td>\n",
       "      <td>2018-08-29 02:34:23</td>\n",
       "      <td>El Cerrito, CA</td>\n",
       "      <td>44300</td>\n",
       "      <td>408587</td>\n",
       "    </tr>\n",
       "    <tr>\n",
       "      <th>1</th>\n",
       "      <td>2</td>\n",
       "      <td>2008-07-31 14:22:31</td>\n",
       "      <td>Geoff Dalgas</td>\n",
       "      <td>2018-08-23 17:31:56</td>\n",
       "      <td>Corvallis, OR</td>\n",
       "      <td>3491</td>\n",
       "      <td>23966</td>\n",
       "    </tr>\n",
       "    <tr>\n",
       "      <th>2</th>\n",
       "      <td>3</td>\n",
       "      <td>2008-07-31 14:22:31</td>\n",
       "      <td>Jarrod Dixon</td>\n",
       "      <td>2018-08-30 20:56:24</td>\n",
       "      <td>Raleigh, NC, United States</td>\n",
       "      <td>13418</td>\n",
       "      <td>24396</td>\n",
       "    </tr>\n",
       "    <tr>\n",
       "      <th>3</th>\n",
       "      <td>4</td>\n",
       "      <td>2008-07-31 14:22:31</td>\n",
       "      <td>Joel Spolsky</td>\n",
       "      <td>2018-08-14 22:18:15</td>\n",
       "      <td>New York, NY</td>\n",
       "      <td>28768</td>\n",
       "      <td>73755</td>\n",
       "    </tr>\n",
       "    <tr>\n",
       "      <th>4</th>\n",
       "      <td>5</td>\n",
       "      <td>2008-07-31 14:22:31</td>\n",
       "      <td>Jon Galloway</td>\n",
       "      <td>2018-08-29 16:48:36</td>\n",
       "      <td>San Diego, CA</td>\n",
       "      <td>39172</td>\n",
       "      <td>11700</td>\n",
       "    </tr>\n",
       "    <tr>\n",
       "      <th>5</th>\n",
       "      <td>8</td>\n",
       "      <td>2008-07-31 21:33:24</td>\n",
       "      <td>Eggs McLaren</td>\n",
       "      <td>2018-04-09 02:04:56</td>\n",
       "      <td>None</td>\n",
       "      <td>942</td>\n",
       "      <td>6372</td>\n",
       "    </tr>\n",
       "    <tr>\n",
       "      <th>6</th>\n",
       "      <td>9</td>\n",
       "      <td>2008-07-31 21:35:27</td>\n",
       "      <td>Kevin Dente</td>\n",
       "      <td>2018-08-30 18:18:03</td>\n",
       "      <td>Oakland, CA</td>\n",
       "      <td>14337</td>\n",
       "      <td>4949</td>\n",
       "    </tr>\n",
       "    <tr>\n",
       "      <th>7</th>\n",
       "      <td>11</td>\n",
       "      <td>2008-08-01 00:59:11</td>\n",
       "      <td>Anonymous User</td>\n",
       "      <td>2008-08-01 00:59:11</td>\n",
       "      <td>None</td>\n",
       "      <td>1890</td>\n",
       "      <td>2123</td>\n",
       "    </tr>\n",
       "    <tr>\n",
       "      <th>8</th>\n",
       "      <td>13</td>\n",
       "      <td>2008-08-01 04:18:05</td>\n",
       "      <td>Chris Jester-Young</td>\n",
       "      <td>2018-08-30 02:47:23</td>\n",
       "      <td>Raleigh, NC, United States</td>\n",
       "      <td>177138</td>\n",
       "      <td>35414</td>\n",
       "    </tr>\n",
       "    <tr>\n",
       "      <th>9</th>\n",
       "      <td>17</td>\n",
       "      <td>2008-08-01 12:02:22</td>\n",
       "      <td>Nick Berardi</td>\n",
       "      <td>2018-01-22 01:35:38</td>\n",
       "      <td>Issaquah, WA</td>\n",
       "      <td>44443</td>\n",
       "      <td>4786</td>\n",
       "    </tr>\n",
       "  </tbody>\n",
       "</table>\n",
       "</div>"
      ],
      "text/plain": [
       "   id       creation_date        display_name    last_access_date  \\\n",
       "0   1 2008-07-31 14:22:31         Jeff Atwood 2018-08-29 02:34:23   \n",
       "1   2 2008-07-31 14:22:31        Geoff Dalgas 2018-08-23 17:31:56   \n",
       "2   3 2008-07-31 14:22:31        Jarrod Dixon 2018-08-30 20:56:24   \n",
       "3   4 2008-07-31 14:22:31        Joel Spolsky 2018-08-14 22:18:15   \n",
       "4   5 2008-07-31 14:22:31        Jon Galloway 2018-08-29 16:48:36   \n",
       "5   8 2008-07-31 21:33:24        Eggs McLaren 2018-04-09 02:04:56   \n",
       "6   9 2008-07-31 21:35:27         Kevin Dente 2018-08-30 18:18:03   \n",
       "7  11 2008-08-01 00:59:11      Anonymous User 2008-08-01 00:59:11   \n",
       "8  13 2008-08-01 04:18:05  Chris Jester-Young 2018-08-30 02:47:23   \n",
       "9  17 2008-08-01 12:02:22        Nick Berardi 2018-01-22 01:35:38   \n",
       "\n",
       "                     location  reputation   views  \n",
       "0              El Cerrito, CA       44300  408587  \n",
       "1               Corvallis, OR        3491   23966  \n",
       "2  Raleigh, NC, United States       13418   24396  \n",
       "3                New York, NY       28768   73755  \n",
       "4               San Diego, CA       39172   11700  \n",
       "5                        None         942    6372  \n",
       "6                 Oakland, CA       14337    4949  \n",
       "7                        None        1890    2123  \n",
       "8  Raleigh, NC, United States      177138   35414  \n",
       "9                Issaquah, WA       44443    4786  "
      ]
     },
     "execution_count": 5,
     "metadata": {},
     "output_type": "execute_result"
    }
   ],
   "source": [
    "sample_df"
   ]
  },
  {
   "cell_type": "markdown",
   "metadata": {},
   "source": [
    "<div class=\"alert alert-block alert-success\">\n",
    "    \n",
    "    \n",
    "### Комментарий от ревьюера v_1\n",
    "Отлично\n",
    "    \n",
    "К базе подключились, приступаем к запросам\n",
    "</div>"
   ]
  },
  {
   "cell_type": "markdown",
   "metadata": {
    "id": "gnBMXkDBDWKm"
   },
   "source": [
    "# Задание 1"
   ]
  },
  {
   "cell_type": "markdown",
   "metadata": {
    "id": "vHsfOrrNDWKn"
   },
   "source": [
    "Выведите общую сумму просмотров постов за каждый месяц 2008 года. Если данных за какой-либо месяц в базе нет, такой месяц можно пропустить. Результат отсортируйте по убыванию общего количества просмотров."
   ]
  },
  {
   "cell_type": "markdown",
   "metadata": {
    "id": "N5rTgGNmDWKn"
   },
   "source": [
    "| month_date  | total_views |\n",
    "| ------------- | ------------- |\n",
    "| 2008-09-01  | 452928568  |\n",
    "| 2008-10-01  | 365400138  |\n",
    "| ...         | ... |"
   ]
  },
  {
   "cell_type": "code",
   "execution_count": 6,
   "metadata": {
    "id": "eWvykcXTDWKo"
   },
   "outputs": [],
   "source": [
    "# напишите запрос\n",
    "query_1 = '''\n",
    "    SELECT DATE(DATE_TRUNC('month', creation_date)) AS month_date\n",
    "        , SUM(views_count) AS total_views\n",
    "    FROM stackoverflow.posts\n",
    "    WHERE EXTRACT('Year' FROM creation_date) = '2008'\n",
    "    GROUP BY 1\n",
    "    ORDER BY 2 DESC;\n",
    "'''\n",
    "\n",
    "# выполните запрос\n",
    "df_task_1 = pd.read_sql_query(query_1, con=engine) "
   ]
  },
  {
   "cell_type": "code",
   "execution_count": 7,
   "metadata": {},
   "outputs": [
    {
     "data": {
      "text/html": [
       "<div>\n",
       "<style scoped>\n",
       "    .dataframe tbody tr th:only-of-type {\n",
       "        vertical-align: middle;\n",
       "    }\n",
       "\n",
       "    .dataframe tbody tr th {\n",
       "        vertical-align: top;\n",
       "    }\n",
       "\n",
       "    .dataframe thead th {\n",
       "        text-align: right;\n",
       "    }\n",
       "</style>\n",
       "<table border=\"1\" class=\"dataframe\">\n",
       "  <thead>\n",
       "    <tr style=\"text-align: right;\">\n",
       "      <th></th>\n",
       "      <th>month_date</th>\n",
       "      <th>total_views</th>\n",
       "    </tr>\n",
       "  </thead>\n",
       "  <tbody>\n",
       "    <tr>\n",
       "      <th>0</th>\n",
       "      <td>2008-09-01</td>\n",
       "      <td>452928568</td>\n",
       "    </tr>\n",
       "    <tr>\n",
       "      <th>1</th>\n",
       "      <td>2008-10-01</td>\n",
       "      <td>365400138</td>\n",
       "    </tr>\n",
       "    <tr>\n",
       "      <th>2</th>\n",
       "      <td>2008-11-01</td>\n",
       "      <td>221759651</td>\n",
       "    </tr>\n",
       "    <tr>\n",
       "      <th>3</th>\n",
       "      <td>2008-12-01</td>\n",
       "      <td>197792841</td>\n",
       "    </tr>\n",
       "    <tr>\n",
       "      <th>4</th>\n",
       "      <td>2008-08-01</td>\n",
       "      <td>131367083</td>\n",
       "    </tr>\n",
       "    <tr>\n",
       "      <th>5</th>\n",
       "      <td>2008-07-01</td>\n",
       "      <td>669895</td>\n",
       "    </tr>\n",
       "  </tbody>\n",
       "</table>\n",
       "</div>"
      ],
      "text/plain": [
       "   month_date  total_views\n",
       "0  2008-09-01    452928568\n",
       "1  2008-10-01    365400138\n",
       "2  2008-11-01    221759651\n",
       "3  2008-12-01    197792841\n",
       "4  2008-08-01    131367083\n",
       "5  2008-07-01       669895"
      ]
     },
     "execution_count": 7,
     "metadata": {},
     "output_type": "execute_result"
    }
   ],
   "source": [
    "df_task_1"
   ]
  },
  {
   "cell_type": "markdown",
   "metadata": {},
   "source": [
    "<div class=\"alert alert-block alert-warning\">\n",
    "    \n",
    "\n",
    "### Комментарий от ревьюера v_1\n",
    "Рекомендация\n",
    "\n",
    "Все верно, но нужно было отсортировать\n",
    "</div>"
   ]
  },
  {
   "cell_type": "markdown",
   "metadata": {
    "id": "XMr_UeU6DWKo"
   },
   "source": [
    "<details>\n",
    "\n",
    "<summary>Подсказка</summary>\n",
    "Используйте функцию для усечения даты, а затем сгруппируйте и отсортируйте данные.\n",
    "</details>"
   ]
  },
  {
   "cell_type": "markdown",
   "metadata": {
    "id": "I_ZvhOxkDWKp"
   },
   "source": [
    "Проанализируйте итоговую таблицу. Отличаются ли данные за разные месяцы? С чем могут быть связаны отличия?"
   ]
  },
  {
   "cell_type": "code",
   "execution_count": 8,
   "metadata": {
    "id": "luxSj17oDWKq"
   },
   "outputs": [],
   "source": [
    "# Данные существенно отличаются. Рост числа постов идет с 7 месяца до 9, затем начинается спад - есть корреляция с периодом всемирного кризиса)))\n",
    "# хотя есть еще гипотеза о летних месяцах с отпусками, что либо перед отпуском, либо после срочно нужно что-то решить и постят больше вопросов на сайт"
   ]
  },
  {
   "cell_type": "markdown",
   "metadata": {
    "id": "FziIXkn5DWKr"
   },
   "source": [
    "# Задание 2"
   ]
  },
  {
   "cell_type": "markdown",
   "metadata": {
    "id": "fTGESZvYDWKr"
   },
   "source": [
    "Выведите имена самых активных пользователей, которые в первый месяц после регистрации (включая день регистрации) дали больше 100 ответов. Вопросы, которые задавали пользователи, не учитывайте. Для каждого имени пользователя выведите количество уникальных значений `user_id`. Отсортируйте результат по полю с именами в лексикографическом порядке."
   ]
  },
  {
   "cell_type": "markdown",
   "metadata": {
    "id": "W5-tv6Y3DWKs"
   },
   "source": [
    "| display_name | count |\n",
    "| ------------ | ----- |\n",
    "| 1800 INFORMATION | 1 |\n",
    "| Adam Bellaire | 1 |\n",
    "| Adam Davis | 1 |\n",
    "| ... | ... |"
   ]
  },
  {
   "cell_type": "code",
   "execution_count": 9,
   "metadata": {
    "id": "fIO-y-YjDWKt"
   },
   "outputs": [],
   "source": [
    "# напишите запрос\n",
    "query_2 = '''\n",
    "    SELECT u.display_name AS display_name\n",
    "        , COUNT(DISTINCT u.id) AS count\n",
    "    FROM stackoverflow.posts AS p\n",
    "    JOIN stackoverflow.users AS u\n",
    "        ON p.user_id=u.id\n",
    "    JOIN stackoverflow.post_types AS pt \n",
    "        ON pt.id=p.post_type_id\n",
    "    WHERE pt.type='Answer'\n",
    "        AND p.creation_date BETWEEN u.creation_date AND DATE(u.creation_date + INTERVAL '1 month')\n",
    "    GROUP BY 1\n",
    "    HAVING COUNT(p.id) > 100\n",
    "    ORDER BY 1 ASC;\n",
    "'''\n",
    "\n",
    "# выполните запрос\n",
    "df_task_2 = pd.read_sql_query(query_2, con=engine) "
   ]
  },
  {
   "cell_type": "code",
   "execution_count": 10,
   "metadata": {
    "scrolled": true
   },
   "outputs": [
    {
     "data": {
      "text/html": [
       "<div>\n",
       "<style scoped>\n",
       "    .dataframe tbody tr th:only-of-type {\n",
       "        vertical-align: middle;\n",
       "    }\n",
       "\n",
       "    .dataframe tbody tr th {\n",
       "        vertical-align: top;\n",
       "    }\n",
       "\n",
       "    .dataframe thead th {\n",
       "        text-align: right;\n",
       "    }\n",
       "</style>\n",
       "<table border=\"1\" class=\"dataframe\">\n",
       "  <thead>\n",
       "    <tr style=\"text-align: right;\">\n",
       "      <th></th>\n",
       "      <th>display_name</th>\n",
       "      <th>count</th>\n",
       "    </tr>\n",
       "  </thead>\n",
       "  <tbody>\n",
       "    <tr>\n",
       "      <th>0</th>\n",
       "      <td>1800 INFORMATION</td>\n",
       "      <td>1</td>\n",
       "    </tr>\n",
       "    <tr>\n",
       "      <th>1</th>\n",
       "      <td>Adam Bellaire</td>\n",
       "      <td>1</td>\n",
       "    </tr>\n",
       "    <tr>\n",
       "      <th>2</th>\n",
       "      <td>Adam Davis</td>\n",
       "      <td>1</td>\n",
       "    </tr>\n",
       "    <tr>\n",
       "      <th>3</th>\n",
       "      <td>Adam Liss</td>\n",
       "      <td>1</td>\n",
       "    </tr>\n",
       "    <tr>\n",
       "      <th>4</th>\n",
       "      <td>Alan</td>\n",
       "      <td>8</td>\n",
       "    </tr>\n",
       "    <tr>\n",
       "      <th>5</th>\n",
       "      <td>Amy B</td>\n",
       "      <td>1</td>\n",
       "    </tr>\n",
       "    <tr>\n",
       "      <th>6</th>\n",
       "      <td>Ben Hoffstein</td>\n",
       "      <td>1</td>\n",
       "    </tr>\n",
       "    <tr>\n",
       "      <th>7</th>\n",
       "      <td>Brian</td>\n",
       "      <td>15</td>\n",
       "    </tr>\n",
       "    <tr>\n",
       "      <th>8</th>\n",
       "      <td>Cade Roux</td>\n",
       "      <td>1</td>\n",
       "    </tr>\n",
       "    <tr>\n",
       "      <th>9</th>\n",
       "      <td>CesarB</td>\n",
       "      <td>1</td>\n",
       "    </tr>\n",
       "    <tr>\n",
       "      <th>10</th>\n",
       "      <td>Chris</td>\n",
       "      <td>29</td>\n",
       "    </tr>\n",
       "    <tr>\n",
       "      <th>11</th>\n",
       "      <td>ConcernedOfTunbridgeWells</td>\n",
       "      <td>1</td>\n",
       "    </tr>\n",
       "    <tr>\n",
       "      <th>12</th>\n",
       "      <td>Craig</td>\n",
       "      <td>10</td>\n",
       "    </tr>\n",
       "    <tr>\n",
       "      <th>13</th>\n",
       "      <td>Dale Ragan</td>\n",
       "      <td>1</td>\n",
       "    </tr>\n",
       "    <tr>\n",
       "      <th>14</th>\n",
       "      <td>Dan</td>\n",
       "      <td>21</td>\n",
       "    </tr>\n",
       "    <tr>\n",
       "      <th>15</th>\n",
       "      <td>Eric Z Beard</td>\n",
       "      <td>1</td>\n",
       "    </tr>\n",
       "    <tr>\n",
       "      <th>16</th>\n",
       "      <td>Espo</td>\n",
       "      <td>1</td>\n",
       "    </tr>\n",
       "    <tr>\n",
       "      <th>17</th>\n",
       "      <td>FlySwat</td>\n",
       "      <td>1</td>\n",
       "    </tr>\n",
       "    <tr>\n",
       "      <th>18</th>\n",
       "      <td>Franci Penov</td>\n",
       "      <td>1</td>\n",
       "    </tr>\n",
       "    <tr>\n",
       "      <th>19</th>\n",
       "      <td>GEOCHET</td>\n",
       "      <td>1</td>\n",
       "    </tr>\n",
       "  </tbody>\n",
       "</table>\n",
       "</div>"
      ],
      "text/plain": [
       "                 display_name  count\n",
       "0            1800 INFORMATION      1\n",
       "1               Adam Bellaire      1\n",
       "2                  Adam Davis      1\n",
       "3                   Adam Liss      1\n",
       "4                        Alan      8\n",
       "5                       Amy B      1\n",
       "6               Ben Hoffstein      1\n",
       "7                       Brian     15\n",
       "8                   Cade Roux      1\n",
       "9                      CesarB      1\n",
       "10                      Chris     29\n",
       "11  ConcernedOfTunbridgeWells      1\n",
       "12                      Craig     10\n",
       "13                 Dale Ragan      1\n",
       "14                        Dan     21\n",
       "15               Eric Z Beard      1\n",
       "16                       Espo      1\n",
       "17                    FlySwat      1\n",
       "18               Franci Penov      1\n",
       "19                    GEOCHET      1"
      ]
     },
     "execution_count": 10,
     "metadata": {},
     "output_type": "execute_result"
    }
   ],
   "source": [
    "df_task_2.head(20)"
   ]
  },
  {
   "cell_type": "markdown",
   "metadata": {},
   "source": [
    "<div class=\"alert alert-block alert-success\">\n",
    "\n",
    "    \n",
    "### Комментарий от ревьюера v_1\n",
    "\n",
    "👍🏻\n",
    "    \n",
    "</div>"
   ]
  },
  {
   "cell_type": "markdown",
   "metadata": {
    "id": "YIqqc-7HDWKt"
   },
   "source": [
    "<details>\n",
    "\n",
    "<summary>Подсказка</summary>\n",
    "Вам нужно присоединить несколько таблиц — изучите внимательнее описание базы. Чтобы добавить промежуток времени к дате, используйте ключевое слово INTERVAL, например, так: <дата> + INTERVAL '1 year 2 months 3 days'\n",
    ".</details>"
   ]
  },
  {
   "cell_type": "markdown",
   "metadata": {
    "id": "I3Wr82TplKpI"
   },
   "source": [
    "Какие аномалии наблюдаются в данных? О чём они говорят?"
   ]
  },
  {
   "cell_type": "code",
   "execution_count": 11,
   "metadata": {
    "id": "CEIGGQ6ODWKy"
   },
   "outputs": [],
   "source": [
    "# В поле count присутствуют значения превышающие 1, т.е. имеем несколько пользователей с одинаковыми отображаемыми именами"
   ]
  },
  {
   "cell_type": "markdown",
   "metadata": {},
   "source": [
    "<div class=\"alert alert-block alert-success\">\n",
    "\n",
    "    \n",
    "### Комментарий от ревьюера v_1\n",
    "\n",
    "Да, непорядок какой-то получается 😃\n",
    "    \n",
    "</div>"
   ]
  },
  {
   "cell_type": "markdown",
   "metadata": {
    "id": "JhM2xXj5DWKu"
   },
   "source": [
    "# Задание 3"
   ]
  },
  {
   "cell_type": "markdown",
   "metadata": {
    "id": "IS6xPqyyDWKu"
   },
   "source": [
    "Выведите количество постов за 2008 год по месяцам. Отберите посты от пользователей, которые зарегистрировались в сентябре 2008 года и сделали хотя бы один пост в декабре того же года. Отсортируйте таблицу по значению месяца по убыванию."
   ]
  },
  {
   "cell_type": "markdown",
   "metadata": {
    "id": "WmjhjV2xDWKv"
   },
   "source": [
    "| month | count |\n",
    "| ------|------ |\n",
    "| 2008-12-01 | 17641 |\n",
    "| 2008-11-01 | 18294 |\n",
    "| ... | ... |"
   ]
  },
  {
   "cell_type": "code",
   "execution_count": 12,
   "metadata": {
    "id": "kVu0FB8WDWKv"
   },
   "outputs": [],
   "source": [
    "# напишите запрос\n",
    "query_3 = '''\n",
    "    SELECT DATE(DATE_TRUNC('month', p.creation_date)) AS month\n",
    "        , COUNT(p.id) AS count\n",
    "    FROM stackoverflow.posts AS p\n",
    "    JOIN stackoverflow.users AS u\n",
    "        ON p.user_id=u.id\n",
    "    WHERE EXTRACT('Year' FROM p.creation_date)='2008'\n",
    "        AND EXTRACT('month' FROM u.creation_date)='9'\n",
    "        AND p.user_id IN (\n",
    "            SELECT user_id\n",
    "            FROM stackoverflow.posts\n",
    "            WHERE DATE(creation_date) BETWEEN '2008-12-01' AND '2008-12-31'\n",
    "        )\n",
    "    GROUP BY 1\n",
    "    ORDER BY 1 DESC;\n",
    "'''\n",
    "\n",
    "# выполните запрос\n",
    "df_task_3 = pd.read_sql_query(query_3, con=engine) "
   ]
  },
  {
   "cell_type": "code",
   "execution_count": 13,
   "metadata": {},
   "outputs": [
    {
     "data": {
      "text/html": [
       "<div>\n",
       "<style scoped>\n",
       "    .dataframe tbody tr th:only-of-type {\n",
       "        vertical-align: middle;\n",
       "    }\n",
       "\n",
       "    .dataframe tbody tr th {\n",
       "        vertical-align: top;\n",
       "    }\n",
       "\n",
       "    .dataframe thead th {\n",
       "        text-align: right;\n",
       "    }\n",
       "</style>\n",
       "<table border=\"1\" class=\"dataframe\">\n",
       "  <thead>\n",
       "    <tr style=\"text-align: right;\">\n",
       "      <th></th>\n",
       "      <th>month</th>\n",
       "      <th>count</th>\n",
       "    </tr>\n",
       "  </thead>\n",
       "  <tbody>\n",
       "    <tr>\n",
       "      <th>0</th>\n",
       "      <td>2008-12-01</td>\n",
       "      <td>17641</td>\n",
       "    </tr>\n",
       "    <tr>\n",
       "      <th>1</th>\n",
       "      <td>2008-11-01</td>\n",
       "      <td>18294</td>\n",
       "    </tr>\n",
       "    <tr>\n",
       "      <th>2</th>\n",
       "      <td>2008-10-01</td>\n",
       "      <td>27171</td>\n",
       "    </tr>\n",
       "    <tr>\n",
       "      <th>3</th>\n",
       "      <td>2008-09-01</td>\n",
       "      <td>24870</td>\n",
       "    </tr>\n",
       "    <tr>\n",
       "      <th>4</th>\n",
       "      <td>2008-08-01</td>\n",
       "      <td>32</td>\n",
       "    </tr>\n",
       "  </tbody>\n",
       "</table>\n",
       "</div>"
      ],
      "text/plain": [
       "        month  count\n",
       "0  2008-12-01  17641\n",
       "1  2008-11-01  18294\n",
       "2  2008-10-01  27171\n",
       "3  2008-09-01  24870\n",
       "4  2008-08-01     32"
      ]
     },
     "execution_count": 13,
     "metadata": {},
     "output_type": "execute_result"
    }
   ],
   "source": [
    "df_task_3"
   ]
  },
  {
   "cell_type": "markdown",
   "metadata": {},
   "source": [
    "<div class=\"alert alert-block alert-success\">\n",
    "\n",
    "    \n",
    "### Комментарий от ревьюера v_1\n",
    "\n",
    "👍🏻\n",
    "\n",
    "    \n",
    "</div>"
   ]
  },
  {
   "cell_type": "markdown",
   "metadata": {
    "id": "nWf0JsTMDWKx"
   },
   "source": [
    "<details>\n",
    "\n",
    "<summary>Подсказка</summary>\n",
    "Сначала найдите идентификаторы пользователей, которые зарегистрировались в сентябре 2008 года и оставили хотя бы один пост в декабре. Затем используйте результат для среза и посчитайте посты по месяцам.</details>"
   ]
  },
  {
   "cell_type": "markdown",
   "metadata": {
    "id": "Vnxn9DVHDWKx"
   },
   "source": [
    "Изучите данные: есть ли в них аномалии? Предположите, почему могли появиться аномальные значения."
   ]
  },
  {
   "cell_type": "code",
   "execution_count": 14,
   "metadata": {
    "id": "MMVIz4yMlKpN"
   },
   "outputs": [],
   "source": [
    "# Странно выглядит значение августа, откуда оно вообще могло взяться... Возможно часть старых пользователей уже удалили анкеты высвободив user_id и их присвоили новым..."
   ]
  },
  {
   "cell_type": "markdown",
   "metadata": {
    "id": "5Pcizm0DDWKz"
   },
   "source": [
    "# Задание 4"
   ]
  },
  {
   "cell_type": "markdown",
   "metadata": {
    "id": "KUZPF6vHDWKz"
   },
   "source": [
    "Используя данные о постах, выведите несколько полей:\n",
    "\n",
    "- идентификатор пользователя, который написал пост;\n",
    "- дата создания поста;\n",
    "- количество просмотров у текущего поста;\n",
    "- сумму просмотров постов автора с накоплением.\n",
    "\n",
    "Данные в таблице должны быть отсортированы по возрастанию идентификаторов пользователей, а данные об одном и том же пользователе — по возрастанию даты создания поста."
   ]
  },
  {
   "cell_type": "markdown",
   "metadata": {
    "id": "ZpsTUVDYDWK0"
   },
   "source": [
    "| user_id | creation_date | views_count | cumulative_count |\n",
    "| ------ | -------------- | ----------- | ---------------- |\n",
    "| 1 | 2008-07-31 23:41:00  | 480476   | 480476  |\n",
    "| 1 | 2008-07-31 23:55:38  | 136033 | 616509  | \n",
    "| 1 | 2008-07-31 23:56:41  | 0 |  616509  |\n",
    "| ... | ... | ... | ... |\n",
    "| 2 | 2008-07-31 23:56:41 | 79087  | 79087 |\n",
    "| 2 | 2008-08-01 05:09:56 | 65443 | 144530 |\n",
    "| ... | ...  | ...  | ...  |"
   ]
  },
  {
   "cell_type": "code",
   "execution_count": 15,
   "metadata": {
    "id": "hDoJhMzfDWK0"
   },
   "outputs": [],
   "source": [
    "# напишите запрос\n",
    "query_4 = '''\n",
    "    SELECT user_id\n",
    "        , creation_date\n",
    "        , views_count\n",
    "        , SUM(views_count) OVER(PARTITION BY user_id ORDER BY creation_date) AS cumulative_count\n",
    "    FROM stackoverflow.posts\n",
    "    ORDER BY 1, 2;\n",
    "'''\n",
    "\n",
    "# выполните запрос\n",
    "df_task_4 = pd.read_sql_query(query_4, con=engine)"
   ]
  },
  {
   "cell_type": "code",
   "execution_count": 16,
   "metadata": {},
   "outputs": [
    {
     "data": {
      "text/html": [
       "<div>\n",
       "<style scoped>\n",
       "    .dataframe tbody tr th:only-of-type {\n",
       "        vertical-align: middle;\n",
       "    }\n",
       "\n",
       "    .dataframe tbody tr th {\n",
       "        vertical-align: top;\n",
       "    }\n",
       "\n",
       "    .dataframe thead th {\n",
       "        text-align: right;\n",
       "    }\n",
       "</style>\n",
       "<table border=\"1\" class=\"dataframe\">\n",
       "  <thead>\n",
       "    <tr style=\"text-align: right;\">\n",
       "      <th></th>\n",
       "      <th>user_id</th>\n",
       "      <th>creation_date</th>\n",
       "      <th>views_count</th>\n",
       "      <th>cumulative_count</th>\n",
       "    </tr>\n",
       "  </thead>\n",
       "  <tbody>\n",
       "    <tr>\n",
       "      <th>0</th>\n",
       "      <td>1</td>\n",
       "      <td>2008-07-31 23:41:00</td>\n",
       "      <td>480476</td>\n",
       "      <td>480476</td>\n",
       "    </tr>\n",
       "    <tr>\n",
       "      <th>1</th>\n",
       "      <td>1</td>\n",
       "      <td>2008-07-31 23:55:38</td>\n",
       "      <td>136033</td>\n",
       "      <td>616509</td>\n",
       "    </tr>\n",
       "    <tr>\n",
       "      <th>2</th>\n",
       "      <td>1</td>\n",
       "      <td>2008-07-31 23:56:41</td>\n",
       "      <td>0</td>\n",
       "      <td>616509</td>\n",
       "    </tr>\n",
       "    <tr>\n",
       "      <th>3</th>\n",
       "      <td>1</td>\n",
       "      <td>2008-08-04 02:45:08</td>\n",
       "      <td>0</td>\n",
       "      <td>616509</td>\n",
       "    </tr>\n",
       "    <tr>\n",
       "      <th>4</th>\n",
       "      <td>1</td>\n",
       "      <td>2008-08-04 04:31:03</td>\n",
       "      <td>0</td>\n",
       "      <td>616509</td>\n",
       "    </tr>\n",
       "  </tbody>\n",
       "</table>\n",
       "</div>"
      ],
      "text/plain": [
       "   user_id       creation_date  views_count  cumulative_count\n",
       "0        1 2008-07-31 23:41:00       480476            480476\n",
       "1        1 2008-07-31 23:55:38       136033            616509\n",
       "2        1 2008-07-31 23:56:41            0            616509\n",
       "3        1 2008-08-04 02:45:08            0            616509\n",
       "4        1 2008-08-04 04:31:03            0            616509"
      ]
     },
     "execution_count": 16,
     "metadata": {},
     "output_type": "execute_result"
    }
   ],
   "source": [
    "df_task_4.head()"
   ]
  },
  {
   "cell_type": "code",
   "execution_count": 17,
   "metadata": {},
   "outputs": [
    {
     "data": {
      "text/html": [
       "<div>\n",
       "<style scoped>\n",
       "    .dataframe tbody tr th:only-of-type {\n",
       "        vertical-align: middle;\n",
       "    }\n",
       "\n",
       "    .dataframe tbody tr th {\n",
       "        vertical-align: top;\n",
       "    }\n",
       "\n",
       "    .dataframe thead th {\n",
       "        text-align: right;\n",
       "    }\n",
       "</style>\n",
       "<table border=\"1\" class=\"dataframe\">\n",
       "  <thead>\n",
       "    <tr style=\"text-align: right;\">\n",
       "      <th></th>\n",
       "      <th>user_id</th>\n",
       "      <th>creation_date</th>\n",
       "      <th>views_count</th>\n",
       "      <th>cumulative_count</th>\n",
       "    </tr>\n",
       "  </thead>\n",
       "  <tbody>\n",
       "    <tr>\n",
       "      <th>70</th>\n",
       "      <td>2</td>\n",
       "      <td>2008-08-01 04:59:34</td>\n",
       "      <td>79087</td>\n",
       "      <td>79087</td>\n",
       "    </tr>\n",
       "    <tr>\n",
       "      <th>71</th>\n",
       "      <td>2</td>\n",
       "      <td>2008-08-01 05:09:56</td>\n",
       "      <td>65443</td>\n",
       "      <td>144530</td>\n",
       "    </tr>\n",
       "    <tr>\n",
       "      <th>72</th>\n",
       "      <td>2</td>\n",
       "      <td>2008-08-04 05:51:57</td>\n",
       "      <td>7628</td>\n",
       "      <td>152158</td>\n",
       "    </tr>\n",
       "    <tr>\n",
       "      <th>73</th>\n",
       "      <td>2</td>\n",
       "      <td>2008-08-21 20:53:51</td>\n",
       "      <td>0</td>\n",
       "      <td>152158</td>\n",
       "    </tr>\n",
       "    <tr>\n",
       "      <th>74</th>\n",
       "      <td>2</td>\n",
       "      <td>2008-10-13 23:46:09</td>\n",
       "      <td>2593</td>\n",
       "      <td>154751</td>\n",
       "    </tr>\n",
       "    <tr>\n",
       "      <th>75</th>\n",
       "      <td>2</td>\n",
       "      <td>2008-12-15 03:59:56</td>\n",
       "      <td>0</td>\n",
       "      <td>154751</td>\n",
       "    </tr>\n",
       "  </tbody>\n",
       "</table>\n",
       "</div>"
      ],
      "text/plain": [
       "    user_id       creation_date  views_count  cumulative_count\n",
       "70        2 2008-08-01 04:59:34        79087             79087\n",
       "71        2 2008-08-01 05:09:56        65443            144530\n",
       "72        2 2008-08-04 05:51:57         7628            152158\n",
       "73        2 2008-08-21 20:53:51            0            152158\n",
       "74        2 2008-10-13 23:46:09         2593            154751\n",
       "75        2 2008-12-15 03:59:56            0            154751"
      ]
     },
     "execution_count": 17,
     "metadata": {},
     "output_type": "execute_result"
    }
   ],
   "source": [
    "df_task_4.query('user_id == 2')"
   ]
  },
  {
   "cell_type": "markdown",
   "metadata": {},
   "source": [
    "<div class=\"alert alert-block alert-success\">\n",
    "\n",
    "    \n",
    "### Комментарий от ревьюера v_1\n",
    "\n",
    "Правильное использование оконки для накопительной суммы 👍🏻\n",
    "    \n",
    "\n",
    "</div>"
   ]
  },
  {
   "cell_type": "markdown",
   "metadata": {
    "id": "toidOivXDWK1"
   },
   "source": [
    "<details>\n",
    "\n",
    "<summary>Подсказка</summary>\n",
    "Для подсчёта суммы с накоплением используйте оконную функцию.\n",
    "</details>"
   ]
  },
  {
   "cell_type": "markdown",
   "metadata": {
    "id": "N0kHRHvIDWK2"
   },
   "source": [
    "# Задание 5"
   ]
  },
  {
   "cell_type": "markdown",
   "metadata": {
    "id": "gBgvmPtODWK2"
   },
   "source": [
    "Найдите среднее количество постов пользователей в день за август 2008 года. Отберите данные о пользователях, которые опубликовали больше 120 постов за август. Дни без публикаций не учитывайте. \n",
    "\n",
    "Отсортируйте результат по возрастанию среднего количества постов. Значения можно не округлять."
   ]
  },
  {
   "cell_type": "markdown",
   "metadata": {
    "id": "nfzR08BODWK3"
   },
   "source": [
    "| user_id | avg_daily |\n",
    "| ------- | --------- |\n",
    "| 116     | 4.777778  |\n",
    "| 234     | 5.208333  |\n",
    "| ...     | ... |"
   ]
  },
  {
   "cell_type": "code",
   "execution_count": 18,
   "metadata": {
    "id": "YFyPNz5GDWK3"
   },
   "outputs": [],
   "source": [
    "# напишите запрос\n",
    "query_5 = '''\n",
    "    SELECT user_id\n",
    "        , AVG(cnt) AS avg_daily\n",
    "    FROM (\n",
    "        SELECT user_id\n",
    "            , DATE(DATE_TRUNC('day', creation_date)) AS day\n",
    "            , COUNT(*) AS cnt\n",
    "        FROM stackoverflow.posts\n",
    "        WHERE DATE(creation_date) BETWEEN '2008-08-01' AND '2008-08-31'\n",
    "        GROUP BY 1, 2\n",
    "    ) AS t1\n",
    "    WHERE cnt > 0\n",
    "    GROUP BY user_id\n",
    "    HAVING SUM(cnt) > 120\n",
    "    ORDER BY 2;\n",
    "'''\n",
    "\n",
    "# выполните запрос\n",
    "df_task_5 = pd.read_sql_query(query_5, con=engine)"
   ]
  },
  {
   "cell_type": "code",
   "execution_count": 19,
   "metadata": {},
   "outputs": [
    {
     "data": {
      "text/html": [
       "<div>\n",
       "<style scoped>\n",
       "    .dataframe tbody tr th:only-of-type {\n",
       "        vertical-align: middle;\n",
       "    }\n",
       "\n",
       "    .dataframe tbody tr th {\n",
       "        vertical-align: top;\n",
       "    }\n",
       "\n",
       "    .dataframe thead th {\n",
       "        text-align: right;\n",
       "    }\n",
       "</style>\n",
       "<table border=\"1\" class=\"dataframe\">\n",
       "  <thead>\n",
       "    <tr style=\"text-align: right;\">\n",
       "      <th></th>\n",
       "      <th>user_id</th>\n",
       "      <th>avg_daily</th>\n",
       "    </tr>\n",
       "  </thead>\n",
       "  <tbody>\n",
       "    <tr>\n",
       "      <th>0</th>\n",
       "      <td>116</td>\n",
       "      <td>4.777778</td>\n",
       "    </tr>\n",
       "    <tr>\n",
       "      <th>1</th>\n",
       "      <td>234</td>\n",
       "      <td>5.208333</td>\n",
       "    </tr>\n",
       "    <tr>\n",
       "      <th>2</th>\n",
       "      <td>91</td>\n",
       "      <td>5.681818</td>\n",
       "    </tr>\n",
       "    <tr>\n",
       "      <th>3</th>\n",
       "      <td>905</td>\n",
       "      <td>7.000000</td>\n",
       "    </tr>\n",
       "    <tr>\n",
       "      <th>4</th>\n",
       "      <td>383</td>\n",
       "      <td>7.277778</td>\n",
       "    </tr>\n",
       "  </tbody>\n",
       "</table>\n",
       "</div>"
      ],
      "text/plain": [
       "   user_id  avg_daily\n",
       "0      116   4.777778\n",
       "1      234   5.208333\n",
       "2       91   5.681818\n",
       "3      905   7.000000\n",
       "4      383   7.277778"
      ]
     },
     "execution_count": 19,
     "metadata": {},
     "output_type": "execute_result"
    }
   ],
   "source": [
    "df_task_5"
   ]
  },
  {
   "cell_type": "markdown",
   "metadata": {},
   "source": [
    "<div class=\"alert alert-block alert-success\">\n",
    "\n",
    "    \n",
    "### Комментарий от ревьюера v_1\n",
    "\n",
    "👍🏻\n",
    "    \n",
    "\n",
    "</div>"
   ]
  },
  {
   "cell_type": "markdown",
   "metadata": {
    "id": "5Gs8kiJvDWK4"
   },
   "source": [
    "<details>\n",
    "\n",
    "<summary>Подсказка</summary>\n",
    "Сначала найдите идентификаторы пользователей, которые написали более 120 постов за август. Используя этот запрос в качестве подзапроса для среза, найдите и сохраните во временную таблицу идентификаторы нужных пользователей, дни августа и количество постов в день. В основном запросе сгруппируйте данные по пользователям и найдите для каждого из них среднее количество постов.\n",
    "</details>"
   ]
  },
  {
   "cell_type": "markdown",
   "metadata": {
    "id": "EQ0dcFH4DWK5"
   },
   "source": [
    "# Задание 6"
   ]
  },
  {
   "cell_type": "markdown",
   "metadata": {
    "id": "c7flfg_hDWK5"
   },
   "source": [
    "Сколько в среднем дней в период с 1 по 7 декабря 2008 года пользователи взаимодействовали с платформой? Для каждого пользователя отберите дни, в которые он или она опубликовали хотя бы один пост. Нужно получить одно целое число — не забудьте округлить результат. "
   ]
  },
  {
   "cell_type": "markdown",
   "metadata": {
    "id": "RC1Ibzm9DWK6"
   },
   "source": [
    "| result |\n",
    "| -----  |\n",
    "| <целое число> |"
   ]
  },
  {
   "cell_type": "code",
   "execution_count": 20,
   "metadata": {
    "id": "kZ7LXTr6DWK6"
   },
   "outputs": [],
   "source": [
    "# напишите запрос\n",
    "query_6 = '''\n",
    "    SELECT ROUND(AVG(dt)) AS result\n",
    "    FROM (\n",
    "        SELECT u.id\n",
    "            , COUNT(DISTINCT DATE(DATE_TRUNC('day', p.creation_date))) AS dt\n",
    "        FROM stackoverflow.posts AS p\n",
    "        JOIN stackoverflow.users AS u\n",
    "            ON p.user_id=u.id\n",
    "        JOIN stackoverflow.post_types AS pt\n",
    "            ON p.post_type_id=pt.id\n",
    "        WHERE DATE(p.creation_date) BETWEEN '2008-12-01' AND '2008-12-07'\n",
    "            --AND pt.type='Question'\n",
    "        GROUP BY 1\n",
    "    ) AS t1;\n",
    "'''\n",
    "\n",
    "# выполните запрос\n",
    "df_task_6 = pd.read_sql_query(query_6, con=engine)"
   ]
  },
  {
   "cell_type": "code",
   "execution_count": 21,
   "metadata": {},
   "outputs": [
    {
     "data": {
      "text/html": [
       "<div>\n",
       "<style scoped>\n",
       "    .dataframe tbody tr th:only-of-type {\n",
       "        vertical-align: middle;\n",
       "    }\n",
       "\n",
       "    .dataframe tbody tr th {\n",
       "        vertical-align: top;\n",
       "    }\n",
       "\n",
       "    .dataframe thead th {\n",
       "        text-align: right;\n",
       "    }\n",
       "</style>\n",
       "<table border=\"1\" class=\"dataframe\">\n",
       "  <thead>\n",
       "    <tr style=\"text-align: right;\">\n",
       "      <th></th>\n",
       "      <th>result</th>\n",
       "    </tr>\n",
       "  </thead>\n",
       "  <tbody>\n",
       "    <tr>\n",
       "      <th>0</th>\n",
       "      <td>2.0</td>\n",
       "    </tr>\n",
       "  </tbody>\n",
       "</table>\n",
       "</div>"
      ],
      "text/plain": [
       "   result\n",
       "0     2.0"
      ]
     },
     "execution_count": 21,
     "metadata": {},
     "output_type": "execute_result"
    }
   ],
   "source": [
    "df_task_6"
   ]
  },
  {
   "cell_type": "markdown",
   "metadata": {},
   "source": [
    "<div class=\"alert alert-block alert-danger\">\n",
    "\n",
    "    \n",
    "### Комментарий от ревьюера v_1\n",
    "Критично\n",
    "\n",
    "А вот тут возникли ошибки:\n",
    "    \n",
    "1. нужно количество дней, а ты количество постов считаешь\n",
    "    \n",
    "2. лишняя фильтрация для типа поста, такого условия не было\n",
    "    \n",
    "</div>\n",
    "    "
   ]
  },
  {
   "cell_type": "markdown",
   "metadata": {},
   "source": [
    "<div class=\"alert alert-block alert-danger\">\n",
    "\n",
    "    \n",
    "### Комментарий от ревьюера v_2\n",
    "Критично\n",
    "    \n",
    "Нет условия про то, что тип поста вопрос, нужны все посты, а не только Question'\n",
    "</div>\n",
    "    "
   ]
  },
  {
   "cell_type": "markdown",
   "metadata": {},
   "source": [
    "<div class=\"alert alert-block alert-success\">\n",
    "\n",
    "    \n",
    "### Комментарий от ревьюера v_3\n",
    "\n",
    "👍🏻\n",
    "    \n",
    "</div>"
   ]
  },
  {
   "cell_type": "markdown",
   "metadata": {
    "id": "2K5G3xuBDWK7"
   },
   "source": [
    "<details>\n",
    "\n",
    "<summary>Подсказка</summary>\n",
    "Посчитайте, сколько активных дней было у каждого пользователя. Добавьте данные во временную таблицу и используйте в основном запросе.\n",
    "</details>"
   ]
  },
  {
   "cell_type": "markdown",
   "metadata": {
    "id": "UJFtNNggDWK7"
   },
   "source": [
    "Проанализируйте итоговую таблицу — какие выводы можно сделать?"
   ]
  },
  {
   "cell_type": "code",
   "execution_count": 22,
   "metadata": {
    "id": "LfUuYz-1DWK8"
   },
   "outputs": [],
   "source": [
    "# В течение недели с 1 по 7 декабря 2008 года каждый пользователь в среднем взаимодействовал с платформой 2 дня"
   ]
  },
  {
   "cell_type": "markdown",
   "metadata": {
    "id": "wfOmqmfLDWK8"
   },
   "source": [
    "# Задание 7"
   ]
  },
  {
   "cell_type": "markdown",
   "metadata": {
    "id": "X4ARQimADWK9"
   },
   "source": [
    "Выведите историю активности каждого пользователя в таком виде: идентификатор пользователя, дата публикации поста. Отсортируйте вывод по возрастанию идентификаторов пользователей, а для каждого пользователя — по возрастанию даты публикации.\n",
    "\n",
    "Добавьте в таблицу новое поле: для каждого поста в нём будет указано название месяца предпоследней публикации пользователя относительно текущей. Если такой публикации нет, укажите `NULL`.  Python автоматически поменяет `NULL` на `None`, но дополнительно преобразовывать значения `None` вам не нужно.\n",
    "\n",
    "Посмотрите внимательно на образец таблицы: для первых двух постов предпоследней публикации нет, но, начиная с третьего поста, в новое поле входит нужный месяц. Для следующего пользователя в первые две записи поля `second_last_month` тоже войдёт `NULL`."
   ]
  },
  {
   "cell_type": "markdown",
   "metadata": {
    "id": "IGPjRP01DWK9"
   },
   "source": [
    "| user_id | creation_date | second_last_month |\n",
    "| ------- | ------------- | ----------------- |\n",
    "| 1       | 2008-07-31 23:41:00 | None |\n",
    "| 1       | 2008-07-31 23:55:38 | None |\n",
    "| 1       | 2008-07-31 23:56:41 | July |\n",
    "| 1       | 2008-08-04 02:45:08 | July |\n",
    "| 1       | 2008-08-04 04:31:03 | July |\n",
    "| 1       | 2008-08-04 08:04:42 | August |\n",
    "| ... | ... | ... |"
   ]
  },
  {
   "cell_type": "code",
   "execution_count": 23,
   "metadata": {
    "id": "HzI1vhaMDWK-"
   },
   "outputs": [],
   "source": [
    "# напишите запрос\n",
    "query_7 = '''\n",
    "    SELECT user_id\n",
    "        , creation_date\n",
    "        , TO_CHAR(LAG(creation_date, 2) OVER(PARTITION BY user_id ORDER BY creation_date), 'Month') AS second_last_month\n",
    "    FROM stackoverflow.posts\n",
    "    ORDER BY 1, 2;\n",
    "'''\n",
    "\n",
    "# выполните запрос\n",
    "df_task_7 = pd.read_sql_query(query_7, con=engine)"
   ]
  },
  {
   "cell_type": "code",
   "execution_count": 24,
   "metadata": {},
   "outputs": [
    {
     "data": {
      "text/html": [
       "<div>\n",
       "<style scoped>\n",
       "    .dataframe tbody tr th:only-of-type {\n",
       "        vertical-align: middle;\n",
       "    }\n",
       "\n",
       "    .dataframe tbody tr th {\n",
       "        vertical-align: top;\n",
       "    }\n",
       "\n",
       "    .dataframe thead th {\n",
       "        text-align: right;\n",
       "    }\n",
       "</style>\n",
       "<table border=\"1\" class=\"dataframe\">\n",
       "  <thead>\n",
       "    <tr style=\"text-align: right;\">\n",
       "      <th></th>\n",
       "      <th>user_id</th>\n",
       "      <th>creation_date</th>\n",
       "      <th>second_last_month</th>\n",
       "    </tr>\n",
       "  </thead>\n",
       "  <tbody>\n",
       "    <tr>\n",
       "      <th>0</th>\n",
       "      <td>1</td>\n",
       "      <td>2008-07-31 23:41:00</td>\n",
       "      <td>None</td>\n",
       "    </tr>\n",
       "    <tr>\n",
       "      <th>1</th>\n",
       "      <td>1</td>\n",
       "      <td>2008-07-31 23:55:38</td>\n",
       "      <td>None</td>\n",
       "    </tr>\n",
       "    <tr>\n",
       "      <th>2</th>\n",
       "      <td>1</td>\n",
       "      <td>2008-07-31 23:56:41</td>\n",
       "      <td>July</td>\n",
       "    </tr>\n",
       "    <tr>\n",
       "      <th>3</th>\n",
       "      <td>1</td>\n",
       "      <td>2008-08-04 02:45:08</td>\n",
       "      <td>July</td>\n",
       "    </tr>\n",
       "    <tr>\n",
       "      <th>4</th>\n",
       "      <td>1</td>\n",
       "      <td>2008-08-04 04:31:03</td>\n",
       "      <td>July</td>\n",
       "    </tr>\n",
       "    <tr>\n",
       "      <th>5</th>\n",
       "      <td>1</td>\n",
       "      <td>2008-08-04 08:04:42</td>\n",
       "      <td>August</td>\n",
       "    </tr>\n",
       "  </tbody>\n",
       "</table>\n",
       "</div>"
      ],
      "text/plain": [
       "   user_id       creation_date second_last_month\n",
       "0        1 2008-07-31 23:41:00              None\n",
       "1        1 2008-07-31 23:55:38              None\n",
       "2        1 2008-07-31 23:56:41         July     \n",
       "3        1 2008-08-04 02:45:08         July     \n",
       "4        1 2008-08-04 04:31:03         July     \n",
       "5        1 2008-08-04 08:04:42         August   "
      ]
     },
     "execution_count": 24,
     "metadata": {},
     "output_type": "execute_result"
    }
   ],
   "source": [
    "df_task_7.head(6)"
   ]
  },
  {
   "cell_type": "code",
   "execution_count": 25,
   "metadata": {},
   "outputs": [
    {
     "data": {
      "text/html": [
       "<div>\n",
       "<style scoped>\n",
       "    .dataframe tbody tr th:only-of-type {\n",
       "        vertical-align: middle;\n",
       "    }\n",
       "\n",
       "    .dataframe tbody tr th {\n",
       "        vertical-align: top;\n",
       "    }\n",
       "\n",
       "    .dataframe thead th {\n",
       "        text-align: right;\n",
       "    }\n",
       "</style>\n",
       "<table border=\"1\" class=\"dataframe\">\n",
       "  <thead>\n",
       "    <tr style=\"text-align: right;\">\n",
       "      <th></th>\n",
       "      <th>user_id</th>\n",
       "      <th>creation_date</th>\n",
       "      <th>second_last_month</th>\n",
       "    </tr>\n",
       "  </thead>\n",
       "  <tbody>\n",
       "    <tr>\n",
       "      <th>70</th>\n",
       "      <td>2</td>\n",
       "      <td>2008-08-01 04:59:34</td>\n",
       "      <td>None</td>\n",
       "    </tr>\n",
       "    <tr>\n",
       "      <th>71</th>\n",
       "      <td>2</td>\n",
       "      <td>2008-08-01 05:09:56</td>\n",
       "      <td>None</td>\n",
       "    </tr>\n",
       "    <tr>\n",
       "      <th>72</th>\n",
       "      <td>2</td>\n",
       "      <td>2008-08-04 05:51:57</td>\n",
       "      <td>August</td>\n",
       "    </tr>\n",
       "    <tr>\n",
       "      <th>73</th>\n",
       "      <td>2</td>\n",
       "      <td>2008-08-21 20:53:51</td>\n",
       "      <td>August</td>\n",
       "    </tr>\n",
       "    <tr>\n",
       "      <th>74</th>\n",
       "      <td>2</td>\n",
       "      <td>2008-10-13 23:46:09</td>\n",
       "      <td>August</td>\n",
       "    </tr>\n",
       "    <tr>\n",
       "      <th>75</th>\n",
       "      <td>2</td>\n",
       "      <td>2008-12-15 03:59:56</td>\n",
       "      <td>August</td>\n",
       "    </tr>\n",
       "  </tbody>\n",
       "</table>\n",
       "</div>"
      ],
      "text/plain": [
       "    user_id       creation_date second_last_month\n",
       "70        2 2008-08-01 04:59:34              None\n",
       "71        2 2008-08-01 05:09:56              None\n",
       "72        2 2008-08-04 05:51:57         August   \n",
       "73        2 2008-08-21 20:53:51         August   \n",
       "74        2 2008-10-13 23:46:09         August   \n",
       "75        2 2008-12-15 03:59:56         August   "
      ]
     },
     "execution_count": 25,
     "metadata": {},
     "output_type": "execute_result"
    }
   ],
   "source": [
    "df_task_7.query('user_id == 2').head(10)"
   ]
  },
  {
   "cell_type": "code",
   "execution_count": 26,
   "metadata": {},
   "outputs": [
    {
     "data": {
      "text/html": [
       "<div>\n",
       "<style scoped>\n",
       "    .dataframe tbody tr th:only-of-type {\n",
       "        vertical-align: middle;\n",
       "    }\n",
       "\n",
       "    .dataframe tbody tr th {\n",
       "        vertical-align: top;\n",
       "    }\n",
       "\n",
       "    .dataframe thead th {\n",
       "        text-align: right;\n",
       "    }\n",
       "</style>\n",
       "<table border=\"1\" class=\"dataframe\">\n",
       "  <thead>\n",
       "    <tr style=\"text-align: right;\">\n",
       "      <th></th>\n",
       "      <th>user_id</th>\n",
       "      <th>creation_date</th>\n",
       "      <th>second_last_month</th>\n",
       "    </tr>\n",
       "  </thead>\n",
       "  <tbody>\n",
       "    <tr>\n",
       "      <th>731</th>\n",
       "      <td>20</td>\n",
       "      <td>2008-08-06 13:35:44</td>\n",
       "      <td>None</td>\n",
       "    </tr>\n",
       "    <tr>\n",
       "      <th>732</th>\n",
       "      <td>20</td>\n",
       "      <td>2008-08-06 14:35:36</td>\n",
       "      <td>None</td>\n",
       "    </tr>\n",
       "    <tr>\n",
       "      <th>733</th>\n",
       "      <td>20</td>\n",
       "      <td>2008-08-07 16:11:58</td>\n",
       "      <td>August</td>\n",
       "    </tr>\n",
       "    <tr>\n",
       "      <th>734</th>\n",
       "      <td>20</td>\n",
       "      <td>2008-08-08 14:08:10</td>\n",
       "      <td>August</td>\n",
       "    </tr>\n",
       "    <tr>\n",
       "      <th>735</th>\n",
       "      <td>20</td>\n",
       "      <td>2008-08-08 14:49:52</td>\n",
       "      <td>August</td>\n",
       "    </tr>\n",
       "    <tr>\n",
       "      <th>736</th>\n",
       "      <td>20</td>\n",
       "      <td>2008-08-09 18:05:09</td>\n",
       "      <td>August</td>\n",
       "    </tr>\n",
       "    <tr>\n",
       "      <th>737</th>\n",
       "      <td>20</td>\n",
       "      <td>2008-08-20 12:18:52</td>\n",
       "      <td>August</td>\n",
       "    </tr>\n",
       "    <tr>\n",
       "      <th>738</th>\n",
       "      <td>20</td>\n",
       "      <td>2008-09-10 11:33:54</td>\n",
       "      <td>August</td>\n",
       "    </tr>\n",
       "    <tr>\n",
       "      <th>739</th>\n",
       "      <td>20</td>\n",
       "      <td>2008-10-02 11:33:22</td>\n",
       "      <td>August</td>\n",
       "    </tr>\n",
       "    <tr>\n",
       "      <th>740</th>\n",
       "      <td>20</td>\n",
       "      <td>2008-10-06 12:00:48</td>\n",
       "      <td>September</td>\n",
       "    </tr>\n",
       "    <tr>\n",
       "      <th>741</th>\n",
       "      <td>20</td>\n",
       "      <td>2008-10-06 22:08:51</td>\n",
       "      <td>October</td>\n",
       "    </tr>\n",
       "    <tr>\n",
       "      <th>742</th>\n",
       "      <td>20</td>\n",
       "      <td>2008-10-07 13:53:38</td>\n",
       "      <td>October</td>\n",
       "    </tr>\n",
       "    <tr>\n",
       "      <th>743</th>\n",
       "      <td>20</td>\n",
       "      <td>2008-10-08 21:02:18</td>\n",
       "      <td>October</td>\n",
       "    </tr>\n",
       "    <tr>\n",
       "      <th>744</th>\n",
       "      <td>20</td>\n",
       "      <td>2008-10-09 11:39:46</td>\n",
       "      <td>October</td>\n",
       "    </tr>\n",
       "    <tr>\n",
       "      <th>745</th>\n",
       "      <td>20</td>\n",
       "      <td>2008-10-09 13:21:39</td>\n",
       "      <td>October</td>\n",
       "    </tr>\n",
       "  </tbody>\n",
       "</table>\n",
       "</div>"
      ],
      "text/plain": [
       "     user_id       creation_date second_last_month\n",
       "731       20 2008-08-06 13:35:44              None\n",
       "732       20 2008-08-06 14:35:36              None\n",
       "733       20 2008-08-07 16:11:58         August   \n",
       "734       20 2008-08-08 14:08:10         August   \n",
       "735       20 2008-08-08 14:49:52         August   \n",
       "736       20 2008-08-09 18:05:09         August   \n",
       "737       20 2008-08-20 12:18:52         August   \n",
       "738       20 2008-09-10 11:33:54         August   \n",
       "739       20 2008-10-02 11:33:22         August   \n",
       "740       20 2008-10-06 12:00:48         September\n",
       "741       20 2008-10-06 22:08:51         October  \n",
       "742       20 2008-10-07 13:53:38         October  \n",
       "743       20 2008-10-08 21:02:18         October  \n",
       "744       20 2008-10-09 11:39:46         October  \n",
       "745       20 2008-10-09 13:21:39         October  "
      ]
     },
     "execution_count": 26,
     "metadata": {},
     "output_type": "execute_result"
    }
   ],
   "source": [
    "df_task_7.query('user_id == 20').head(15)"
   ]
  },
  {
   "cell_type": "markdown",
   "metadata": {
    "id": "7dqoKkncDWK_"
   },
   "source": [
    "<details>\n",
    "\n",
    "<summary>Подсказка</summary>\n",
    "Преобразовать результат оконной функции в нужное значение вам поможет аналог условного оператора в SQL: CASE <поле> WHEN <старое значение> THEN <новое значение> END.\n",
    "</details>"
   ]
  },
  {
   "cell_type": "markdown",
   "metadata": {},
   "source": [
    "<div class=\"alert alert-block alert-success\">\n",
    "\n",
    "    \n",
    "### Комментарий от ревьюера v_1\n",
    "\n",
    "Здорово, что находишь способ получить месяц без нагромождения в CASE 👍🏻\n",
    "    \n",
    "\n",
    "</div>"
   ]
  },
  {
   "cell_type": "markdown",
   "metadata": {},
   "source": [
    "## Мне крайне не нравиться огромные CASE WHEN конструкции и я был очень рад, когда обнаружил такую находку в postres"
   ]
  },
  {
   "cell_type": "markdown",
   "metadata": {
    "id": "tf9qq2yzDWK_"
   },
   "source": [
    "# Задание 8"
   ]
  },
  {
   "cell_type": "markdown",
   "metadata": {
    "id": "gfwLVXBYDWLA"
   },
   "source": [
    "Рассчитайте аналог Retention Rate по месяцам для пользователей StackOverflow. Объедините пользователей в когорты по месяцу их первого поста. Возвращение определяйте по наличию поста в текущем месяце. "
   ]
  },
  {
   "cell_type": "markdown",
   "metadata": {
    "id": "kN2ic39WlKpl"
   },
   "source": [
    "| cohort_dt | session_date | users_cnt | cohort_users_cnt | retention_rate |\n",
    "| --- | --- | --- | --- | --- |\n",
    "| 2008-07-01 00:00:00 | 2008-07-01 00:00:00 | 3 | 3 | 100 |\n",
    "| 2008-07-01 00:00:00 | 2008-08-01 00:00:00 | 2 | 3 | 66,67 |\n",
    "| 2008-07-01 00:00:00 | 2008-09-01 00:00:00 | 1 | 3 | 33,33 |\n",
    "| 2008-07-01 00:00:00 | 2008-10-01 00:00:00 | 2 | 3 | 66,67 |\n",
    "| 2008-07-01 00:00:00 | 2008-11-01 00:00:00 | 1 | 3 | 33,33 |\n",
    "| 2008-07-01 00:00:00 | 2008-12-01 00:00:00 | 2 | 3 | 66,67 |\n",
    "| 2008-08-01 00:00:00 | 2008-08-01 00:00:00 | 2151 | 2151 | 100 |\n",
    "| ... | ... | ... | ... | ... |"
   ]
  },
  {
   "cell_type": "code",
   "execution_count": 27,
   "metadata": {
    "id": "LUgFmwmTDWLB"
   },
   "outputs": [],
   "source": [
    "# напишите запрос\n",
    "query_8 = '''\n",
    "    WITH profile AS (\n",
    "        SELECT user_id\n",
    "            , DATE(DATE_TRUNC('month', MIN(creation_date))) AS dt\n",
    "            , COUNT(*) OVER(PARTITION BY DATE(DATE_TRUNC('month', MIN(creation_date)))) AS cohort_users_cnt\n",
    "        FROM stackoverflow.posts\n",
    "        GROUP BY 1\n",
    "    ),\n",
    "    sessions AS (\n",
    "        SELECT user_id\n",
    "            , DATE(DATE_TRUNC('month', creation_date)) AS session_date\n",
    "        FROM stackoverflow.posts\n",
    "        GROUP BY 1, 2\n",
    "    )\n",
    "    SELECT dt AS cohort_dt\n",
    "        , session_date\n",
    "        , COUNT(p.user_id) AS users_cnt\n",
    "        , cohort_users_cnt\n",
    "        , ROUND(COUNT(p.user_id) * 100.0 / cohort_users_cnt, 2) AS retention_rate\n",
    "    FROM profile AS p\n",
    "    JOIN sessions AS s\n",
    "        ON p.user_id=s.user_id\n",
    "    GROUP BY 1, 2, 4;\n",
    "'''\n",
    "\n",
    "# выполните запрос\n",
    "df_task_8 = pd.read_sql_query(query_8, con=engine)"
   ]
  },
  {
   "cell_type": "code",
   "execution_count": 28,
   "metadata": {},
   "outputs": [
    {
     "data": {
      "text/html": [
       "<div>\n",
       "<style scoped>\n",
       "    .dataframe tbody tr th:only-of-type {\n",
       "        vertical-align: middle;\n",
       "    }\n",
       "\n",
       "    .dataframe tbody tr th {\n",
       "        vertical-align: top;\n",
       "    }\n",
       "\n",
       "    .dataframe thead th {\n",
       "        text-align: right;\n",
       "    }\n",
       "</style>\n",
       "<table border=\"1\" class=\"dataframe\">\n",
       "  <thead>\n",
       "    <tr style=\"text-align: right;\">\n",
       "      <th></th>\n",
       "      <th>cohort_dt</th>\n",
       "      <th>session_date</th>\n",
       "      <th>users_cnt</th>\n",
       "      <th>cohort_users_cnt</th>\n",
       "      <th>retention_rate</th>\n",
       "    </tr>\n",
       "  </thead>\n",
       "  <tbody>\n",
       "    <tr>\n",
       "      <th>0</th>\n",
       "      <td>2008-07-01</td>\n",
       "      <td>2008-07-01</td>\n",
       "      <td>3</td>\n",
       "      <td>3</td>\n",
       "      <td>100.00</td>\n",
       "    </tr>\n",
       "    <tr>\n",
       "      <th>1</th>\n",
       "      <td>2008-07-01</td>\n",
       "      <td>2008-08-01</td>\n",
       "      <td>2</td>\n",
       "      <td>3</td>\n",
       "      <td>66.67</td>\n",
       "    </tr>\n",
       "    <tr>\n",
       "      <th>2</th>\n",
       "      <td>2008-07-01</td>\n",
       "      <td>2008-09-01</td>\n",
       "      <td>1</td>\n",
       "      <td>3</td>\n",
       "      <td>33.33</td>\n",
       "    </tr>\n",
       "    <tr>\n",
       "      <th>3</th>\n",
       "      <td>2008-07-01</td>\n",
       "      <td>2008-10-01</td>\n",
       "      <td>2</td>\n",
       "      <td>3</td>\n",
       "      <td>66.67</td>\n",
       "    </tr>\n",
       "    <tr>\n",
       "      <th>4</th>\n",
       "      <td>2008-07-01</td>\n",
       "      <td>2008-11-01</td>\n",
       "      <td>1</td>\n",
       "      <td>3</td>\n",
       "      <td>33.33</td>\n",
       "    </tr>\n",
       "    <tr>\n",
       "      <th>5</th>\n",
       "      <td>2008-07-01</td>\n",
       "      <td>2008-12-01</td>\n",
       "      <td>2</td>\n",
       "      <td>3</td>\n",
       "      <td>66.67</td>\n",
       "    </tr>\n",
       "    <tr>\n",
       "      <th>6</th>\n",
       "      <td>2008-08-01</td>\n",
       "      <td>2008-08-01</td>\n",
       "      <td>2151</td>\n",
       "      <td>2151</td>\n",
       "      <td>100.00</td>\n",
       "    </tr>\n",
       "    <tr>\n",
       "      <th>7</th>\n",
       "      <td>2008-08-01</td>\n",
       "      <td>2008-09-01</td>\n",
       "      <td>1571</td>\n",
       "      <td>2151</td>\n",
       "      <td>73.04</td>\n",
       "    </tr>\n",
       "    <tr>\n",
       "      <th>8</th>\n",
       "      <td>2008-08-01</td>\n",
       "      <td>2008-10-01</td>\n",
       "      <td>1275</td>\n",
       "      <td>2151</td>\n",
       "      <td>59.27</td>\n",
       "    </tr>\n",
       "    <tr>\n",
       "      <th>9</th>\n",
       "      <td>2008-08-01</td>\n",
       "      <td>2008-11-01</td>\n",
       "      <td>1050</td>\n",
       "      <td>2151</td>\n",
       "      <td>48.81</td>\n",
       "    </tr>\n",
       "    <tr>\n",
       "      <th>10</th>\n",
       "      <td>2008-08-01</td>\n",
       "      <td>2008-12-01</td>\n",
       "      <td>894</td>\n",
       "      <td>2151</td>\n",
       "      <td>41.56</td>\n",
       "    </tr>\n",
       "    <tr>\n",
       "      <th>11</th>\n",
       "      <td>2008-09-01</td>\n",
       "      <td>2008-09-01</td>\n",
       "      <td>7678</td>\n",
       "      <td>7678</td>\n",
       "      <td>100.00</td>\n",
       "    </tr>\n",
       "    <tr>\n",
       "      <th>12</th>\n",
       "      <td>2008-09-01</td>\n",
       "      <td>2008-10-01</td>\n",
       "      <td>4132</td>\n",
       "      <td>7678</td>\n",
       "      <td>53.82</td>\n",
       "    </tr>\n",
       "    <tr>\n",
       "      <th>13</th>\n",
       "      <td>2008-09-01</td>\n",
       "      <td>2008-11-01</td>\n",
       "      <td>2966</td>\n",
       "      <td>7678</td>\n",
       "      <td>38.63</td>\n",
       "    </tr>\n",
       "    <tr>\n",
       "      <th>14</th>\n",
       "      <td>2008-09-01</td>\n",
       "      <td>2008-12-01</td>\n",
       "      <td>2500</td>\n",
       "      <td>7678</td>\n",
       "      <td>32.56</td>\n",
       "    </tr>\n",
       "    <tr>\n",
       "      <th>15</th>\n",
       "      <td>2008-10-01</td>\n",
       "      <td>2008-10-01</td>\n",
       "      <td>3629</td>\n",
       "      <td>3629</td>\n",
       "      <td>100.00</td>\n",
       "    </tr>\n",
       "    <tr>\n",
       "      <th>16</th>\n",
       "      <td>2008-10-01</td>\n",
       "      <td>2008-11-01</td>\n",
       "      <td>1640</td>\n",
       "      <td>3629</td>\n",
       "      <td>45.19</td>\n",
       "    </tr>\n",
       "    <tr>\n",
       "      <th>17</th>\n",
       "      <td>2008-10-01</td>\n",
       "      <td>2008-12-01</td>\n",
       "      <td>1221</td>\n",
       "      <td>3629</td>\n",
       "      <td>33.65</td>\n",
       "    </tr>\n",
       "    <tr>\n",
       "      <th>18</th>\n",
       "      <td>2008-11-01</td>\n",
       "      <td>2008-11-01</td>\n",
       "      <td>2852</td>\n",
       "      <td>2852</td>\n",
       "      <td>100.00</td>\n",
       "    </tr>\n",
       "    <tr>\n",
       "      <th>19</th>\n",
       "      <td>2008-11-01</td>\n",
       "      <td>2008-12-01</td>\n",
       "      <td>1151</td>\n",
       "      <td>2852</td>\n",
       "      <td>40.36</td>\n",
       "    </tr>\n",
       "    <tr>\n",
       "      <th>20</th>\n",
       "      <td>2008-12-01</td>\n",
       "      <td>2008-12-01</td>\n",
       "      <td>2536</td>\n",
       "      <td>2536</td>\n",
       "      <td>100.00</td>\n",
       "    </tr>\n",
       "  </tbody>\n",
       "</table>\n",
       "</div>"
      ],
      "text/plain": [
       "     cohort_dt session_date  users_cnt  cohort_users_cnt  retention_rate\n",
       "0   2008-07-01   2008-07-01          3                 3          100.00\n",
       "1   2008-07-01   2008-08-01          2                 3           66.67\n",
       "2   2008-07-01   2008-09-01          1                 3           33.33\n",
       "3   2008-07-01   2008-10-01          2                 3           66.67\n",
       "4   2008-07-01   2008-11-01          1                 3           33.33\n",
       "5   2008-07-01   2008-12-01          2                 3           66.67\n",
       "6   2008-08-01   2008-08-01       2151              2151          100.00\n",
       "7   2008-08-01   2008-09-01       1571              2151           73.04\n",
       "8   2008-08-01   2008-10-01       1275              2151           59.27\n",
       "9   2008-08-01   2008-11-01       1050              2151           48.81\n",
       "10  2008-08-01   2008-12-01        894              2151           41.56\n",
       "11  2008-09-01   2008-09-01       7678              7678          100.00\n",
       "12  2008-09-01   2008-10-01       4132              7678           53.82\n",
       "13  2008-09-01   2008-11-01       2966              7678           38.63\n",
       "14  2008-09-01   2008-12-01       2500              7678           32.56\n",
       "15  2008-10-01   2008-10-01       3629              3629          100.00\n",
       "16  2008-10-01   2008-11-01       1640              3629           45.19\n",
       "17  2008-10-01   2008-12-01       1221              3629           33.65\n",
       "18  2008-11-01   2008-11-01       2852              2852          100.00\n",
       "19  2008-11-01   2008-12-01       1151              2852           40.36\n",
       "20  2008-12-01   2008-12-01       2536              2536          100.00"
      ]
     },
     "execution_count": 28,
     "metadata": {},
     "output_type": "execute_result"
    }
   ],
   "source": [
    "df_task_8"
   ]
  },
  {
   "cell_type": "markdown",
   "metadata": {},
   "source": [
    "<div class=\"alert alert-block alert-success\">\n",
    "\n",
    "    \n",
    "### Комментарий от ревьюера v_1\n",
    "\n",
    " 👍🏻\n",
    "    \n",
    "\n",
    "</div>"
   ]
  },
  {
   "cell_type": "markdown",
   "metadata": {
    "id": "Yavb5o9JDWLB"
   },
   "source": [
    "<details>\n",
    "\n",
    "<summary>Подсказка</summary>\n",
    "Вспомните, как выглядел запрос для расчёта Retention Rate в теории. Создайте две временные таблицы: `profile` и `sessions` (в ней будет информация о публикациях), а затем используйте их в основном запросе.\n",
    "\n",
    "Во временной таблице `profile` вам понадобятся три поля:\n",
    "\n",
    "- идентификатор пользователя;\n",
    "- дата первого поста пользователя, усечённая до месяца (признак начала когорты);\n",
    "- количество пользователей этой когорты.\n",
    "</details>"
   ]
  },
  {
   "cell_type": "markdown",
   "metadata": {
    "id": "_msBtnb2DWLC"
   },
   "source": [
    "Постройте тепловую карту Retention Rate. Какие аномалии или другие необычные явления удалось выявить? Сформулируйте гипотезы о возможных причинах."
   ]
  },
  {
   "cell_type": "code",
   "execution_count": 29,
   "metadata": {},
   "outputs": [],
   "source": [
    "retention = df_task_8.pivot('cohort_dt', 'session_date', 'retention_rate')\n",
    "retention.index = [str(x)[0:10] for x in retention.index]\n",
    "retention.columns = [str(x)[0:10] for x in retention.columns]"
   ]
  },
  {
   "cell_type": "code",
   "execution_count": 30,
   "metadata": {
    "id": "qAEJc8H1DWLC"
   },
   "outputs": [
    {
     "data": {
      "image/png": "[encoded data removed]",
      "text/plain": [
       "<Figure size 720x720 with 2 Axes>"
      ]
     },
     "metadata": {
      "needs_background": "light"
     },
     "output_type": "display_data"
    }
   ],
   "source": [
    "# постройте тепловую карту Retention Rate\n",
    "plt.figure(figsize=(10, 10)) # задаём размер графика\n",
    "sns.heatmap(retention, # датафрейм с данными\n",
    "            annot=True, # добавляем подписи\n",
    "            fmt='') # задаём исходный формат\n",
    "plt.title('Тепловая карта') # название графика\n",
    "plt.show() "
   ]
  },
  {
   "cell_type": "code",
   "execution_count": 31,
   "metadata": {
    "id": "EgOfIsI4DWLC"
   },
   "outputs": [],
   "source": [
    "# опишите аномалии или другие необычные явления и сформулируйте гипотезы\n",
    "# Аномальной выглядит первая когорта от 2008-07-01, т.к. пользователи то уменьшаются, то опять возрастают от месяца к месяцу - но это же написание постов, так что они кажется просто берут перерыв)\n",
    "# У когорт 2008-10-01 и 2008-11-01 очень низкие значения второго месяца. Также в месяце 2008-12-01 низкое кол-во посто - гипотеза здесь одна - под новый год не до написания постов."
   ]
  },
  {
   "cell_type": "markdown",
   "metadata": {},
   "source": [
    "<div class=\"alert alert-block alert-success\">\n",
    "\n",
    "    \n",
    "### Комментарий от ревьюера v_1\n",
    "\n",
    "Ретеншен может прыгать, это вполне себе нормально. В третий месяц вернулись больше чем во второй, бывает))\n",
    "\n",
    "</div>"
   ]
  },
  {
   "cell_type": "markdown",
   "metadata": {
    "id": "1k7oPWt5DWLK"
   },
   "source": [
    "# Задание 9\n"
   ]
  },
  {
   "cell_type": "markdown",
   "metadata": {
    "id": "ALsYVSyRDWLM"
   },
   "source": [
    "На сколько процентов менялось количество постов ежемесячно с 1 сентября по 31 декабря 2008 года? Отобразите таблицу со следующими полями:\n",
    "\n",
    "- номер месяца;\n",
    "- количество постов за месяц;\n",
    "- процент, который показывает, насколько изменилось количество постов в текущем месяце по сравнению с предыдущим.\n",
    "\n",
    "Если постов стало меньше, значение процента должно быть отрицательным, если больше — положительным. Округлите значение процента до двух знаков после запятой.\n",
    "\n",
    "Напомним, что при делении одного целого числа на другое в PostgreSQL в результате получится целое число, округлённое до ближайшего целого вниз. Чтобы этого избежать, переведите делимое в тип `numeric`."
   ]
  },
  {
   "cell_type": "markdown",
   "metadata": {
    "id": "u4E2zF8DDWLM"
   },
   "source": [
    "| creation_month | posts_count | percentage |\n",
    "| -------------- | ----------- | ---------- |\n",
    "| 9 | 70731 | Nan |\n",
    "| 10 | 63102 | -10.33 |\n",
    "| ... | ... | ... |"
   ]
  },
  {
   "cell_type": "code",
   "execution_count": 32,
   "metadata": {
    "id": "Mb5pShStDWLN"
   },
   "outputs": [],
   "source": [
    "# напишите запрос\n",
    "query_9 = '''\n",
    "    SELECT creation_month::integer\n",
    "        , posts_count\n",
    "        , ROUND((posts_count::numeric / LAG(posts_count, 1) OVER(ORDER BY creation_month) - 1) * 100, 2) AS percentage\n",
    "    FROM (\n",
    "        SELECT EXTRACT('month' FROM creation_date) AS creation_month\n",
    "            , COUNT(*) AS posts_count\n",
    "        FROM stackoverflow.posts\n",
    "        WHERE creation_date BETWEEN '2008-09-01' AND '2008-12-31'\n",
    "        GROUP BY 1\n",
    "    ) AS t1\n",
    "    ;\n",
    "'''\n",
    "\n",
    "# выполните запрос\n",
    "df_task_9 = pd.read_sql_query(query_9, con=engine)"
   ]
  },
  {
   "cell_type": "code",
   "execution_count": 33,
   "metadata": {},
   "outputs": [
    {
     "data": {
      "text/html": [
       "<div>\n",
       "<style scoped>\n",
       "    .dataframe tbody tr th:only-of-type {\n",
       "        vertical-align: middle;\n",
       "    }\n",
       "\n",
       "    .dataframe tbody tr th {\n",
       "        vertical-align: top;\n",
       "    }\n",
       "\n",
       "    .dataframe thead th {\n",
       "        text-align: right;\n",
       "    }\n",
       "</style>\n",
       "<table border=\"1\" class=\"dataframe\">\n",
       "  <thead>\n",
       "    <tr style=\"text-align: right;\">\n",
       "      <th></th>\n",
       "      <th>creation_month</th>\n",
       "      <th>posts_count</th>\n",
       "      <th>percentage</th>\n",
       "    </tr>\n",
       "  </thead>\n",
       "  <tbody>\n",
       "    <tr>\n",
       "      <th>0</th>\n",
       "      <td>9</td>\n",
       "      <td>70371</td>\n",
       "      <td>NaN</td>\n",
       "    </tr>\n",
       "    <tr>\n",
       "      <th>1</th>\n",
       "      <td>10</td>\n",
       "      <td>63102</td>\n",
       "      <td>-10.33</td>\n",
       "    </tr>\n",
       "    <tr>\n",
       "      <th>2</th>\n",
       "      <td>11</td>\n",
       "      <td>46975</td>\n",
       "      <td>-25.56</td>\n",
       "    </tr>\n",
       "    <tr>\n",
       "      <th>3</th>\n",
       "      <td>12</td>\n",
       "      <td>44592</td>\n",
       "      <td>-5.07</td>\n",
       "    </tr>\n",
       "  </tbody>\n",
       "</table>\n",
       "</div>"
      ],
      "text/plain": [
       "   creation_month  posts_count  percentage\n",
       "0               9        70371         NaN\n",
       "1              10        63102      -10.33\n",
       "2              11        46975      -25.56\n",
       "3              12        44592       -5.07"
      ]
     },
     "execution_count": 33,
     "metadata": {},
     "output_type": "execute_result"
    }
   ],
   "source": [
    "df_task_9"
   ]
  },
  {
   "cell_type": "markdown",
   "metadata": {},
   "source": [
    "<div class=\"alert alert-block alert-success\">\n",
    "\n",
    "    \n",
    "### Комментарий от ревьюера v_1\n",
    "\n",
    "Отличный результат, здорово разбираешься с числами 👍🏻\n",
    "    \n",
    "\n",
    "</div>"
   ]
  },
  {
   "cell_type": "markdown",
   "metadata": {
    "id": "G0VSDL4HDWLO"
   },
   "source": [
    "<details>\n",
    "\n",
    "<summary>Подсказка</summary>\n",
    "Эту задачу стоит декомпозировать. Сформируйте запрос, который отобразит номер месяца и количество постов. Затем можно использовать оконную функцию, которая вернёт значение за предыдущий месяц, и посчитать процент.\n",
    "</details>"
   ]
  },
  {
   "cell_type": "markdown",
   "metadata": {
    "id": "9NQE2y_MDWLP"
   },
   "source": [
    "Постройте круговую диаграмму с количеством постов по месяцам."
   ]
  },
  {
   "cell_type": "code",
   "execution_count": 34,
   "metadata": {
    "id": "377ABjiVDWLP"
   },
   "outputs": [
    {
     "data": {
      "image/png": "[encoded data removed]",
      "text/plain": [
       "<Figure size 576x576 with 1 Axes>"
      ]
     },
     "metadata": {},
     "output_type": "display_data"
    }
   ],
   "source": [
    "# постройте круговую диаграмму с количеством постов по месяцам\n",
    "data = df_task_9['posts_count']\n",
    "labels = df_task_9['creation_month']\n",
    "colors = sns.color_palette('bright')\n",
    "\n",
    "plt.figure(figsize=(8, 8))\n",
    "plt.pie(data, labels=data, colors=colors, autopct='%1.1f')\n",
    "plt.title('Диаграмма количества постов по месяцам')\n",
    "plt.legend(labels,loc=3)\n",
    "plt.show()"
   ]
  },
  {
   "cell_type": "markdown",
   "metadata": {
    "id": "uw7qMtafDWLP"
   },
   "source": [
    "# Задание 10"
   ]
  },
  {
   "cell_type": "markdown",
   "metadata": {
    "id": "oRBpWKx3DWLQ"
   },
   "source": [
    "Выгрузите данные активности пользователя, который опубликовал больше всего постов за всё время. Выведите данные за октябрь 2008 года в таком виде:\n",
    "\n",
    "- номер недели;\n",
    "- дата и время последнего поста, опубликованного на этой неделе."
   ]
  },
  {
   "cell_type": "markdown",
   "metadata": {
    "id": "XjAWSn_3DWLQ"
   },
   "source": [
    "| week_creation | creation_date |\n",
    "| ------------- | ------------- |\n",
    "| 40 | 2008-10-05 09:00:58 |\n",
    "| 41 | 2008-10-12 21:22:23 |\n",
    "| ... | ... |"
   ]
  },
  {
   "cell_type": "code",
   "execution_count": 35,
   "metadata": {
    "id": "r5F5fSkwDWLQ"
   },
   "outputs": [],
   "source": [
    "# напишите запрос\n",
    "query_10 = '''\n",
    "    SELECT EXTRACT('week' FROM creation_date) AS week_creation\n",
    "        , MAX(creation_date) AS creation_date\n",
    "    FROM stackoverflow.posts AS p\n",
    "    JOIN (\n",
    "        SELECT user_id\n",
    "            , COUNT(*) AS cnt\n",
    "        FROM stackoverflow.posts\n",
    "        GROUP BY 1\n",
    "        ORDER BY 2 DESC\n",
    "        LIMIT 1\n",
    "    ) AS t1\n",
    "        ON p.user_id=t1.user_id\n",
    "    WHERE DATE(DATE_TRUNC('day', creation_date)) BETWEEN '2008-10-01' AND '2008-10-31'\n",
    "    GROUP BY 1\n",
    "    ;\n",
    "'''\n",
    "\n",
    "# выполните запрос\n",
    "df_task_10 = pd.read_sql_query(query_10, con=engine)"
   ]
  },
  {
   "cell_type": "code",
   "execution_count": 36,
   "metadata": {
    "scrolled": true
   },
   "outputs": [
    {
     "data": {
      "text/html": [
       "<div>\n",
       "<style scoped>\n",
       "    .dataframe tbody tr th:only-of-type {\n",
       "        vertical-align: middle;\n",
       "    }\n",
       "\n",
       "    .dataframe tbody tr th {\n",
       "        vertical-align: top;\n",
       "    }\n",
       "\n",
       "    .dataframe thead th {\n",
       "        text-align: right;\n",
       "    }\n",
       "</style>\n",
       "<table border=\"1\" class=\"dataframe\">\n",
       "  <thead>\n",
       "    <tr style=\"text-align: right;\">\n",
       "      <th></th>\n",
       "      <th>week_creation</th>\n",
       "      <th>creation_date</th>\n",
       "    </tr>\n",
       "  </thead>\n",
       "  <tbody>\n",
       "    <tr>\n",
       "      <th>0</th>\n",
       "      <td>40.0</td>\n",
       "      <td>2008-10-05 09:00:58</td>\n",
       "    </tr>\n",
       "    <tr>\n",
       "      <th>1</th>\n",
       "      <td>41.0</td>\n",
       "      <td>2008-10-12 21:22:23</td>\n",
       "    </tr>\n",
       "    <tr>\n",
       "      <th>2</th>\n",
       "      <td>42.0</td>\n",
       "      <td>2008-10-19 06:49:30</td>\n",
       "    </tr>\n",
       "    <tr>\n",
       "      <th>3</th>\n",
       "      <td>43.0</td>\n",
       "      <td>2008-10-26 21:44:36</td>\n",
       "    </tr>\n",
       "    <tr>\n",
       "      <th>4</th>\n",
       "      <td>44.0</td>\n",
       "      <td>2008-10-31 22:16:01</td>\n",
       "    </tr>\n",
       "  </tbody>\n",
       "</table>\n",
       "</div>"
      ],
      "text/plain": [
       "   week_creation       creation_date\n",
       "0           40.0 2008-10-05 09:00:58\n",
       "1           41.0 2008-10-12 21:22:23\n",
       "2           42.0 2008-10-19 06:49:30\n",
       "3           43.0 2008-10-26 21:44:36\n",
       "4           44.0 2008-10-31 22:16:01"
      ]
     },
     "execution_count": 36,
     "metadata": {},
     "output_type": "execute_result"
    }
   ],
   "source": [
    "df_task_10.tail(50)"
   ]
  },
  {
   "cell_type": "markdown",
   "metadata": {},
   "source": [
    "<div class=\"alert alert-block alert-danger\">\n",
    "\n",
    "    \n",
    "### Комментарий от ревьюера v_1\n",
    "Критично\n",
    "\n",
    "В фильтрации дат ошибка, последний пост был за 31-е число, а оно у тебя не попадает\n",
    "    \n",
    "</div>\n",
    "    "
   ]
  },
  {
   "cell_type": "markdown",
   "metadata": {},
   "source": [
    "<div class=\"alert alert-block alert-success\">\n",
    "\n",
    "    \n",
    "### Комментарий от ревьюера v_2\n",
    "\n",
    "👍🏻\n",
    "    \n",
    "</div>"
   ]
  },
  {
   "cell_type": "markdown",
   "metadata": {
    "id": "KAcmxvLgDWLR"
   },
   "source": [
    "<details>\n",
    "\n",
    "<summary>Подсказка</summary>\n",
    "Декомпозируйте задачу:\n",
    "1) Найдите пользователя, который опубликовал больше всего постов. 2) Найдите дату и время создания каждого поста этого пользователя и номер недели. \n",
    "3) Отобразите данные только о последних постах пользователя. Для этого можно использовать оконную функцию.\n",
    "</details>"
   ]
  },
  {
   "cell_type": "markdown",
   "metadata": {},
   "source": [
    "# Честно нехило призадумался как по простому вытащить пользователя с макс кол-вом постов, кроме как через лимит "
   ]
  },
  {
   "cell_type": "markdown",
   "metadata": {},
   "source": [
    "<div class=\"alert alert-block alert-success\">\n",
    "\n",
    "    \n",
    "### Комментарий от ревьюера v_1\n",
    "\n",
    "А как же ROW_NUMBER?)\n",
    "    \n",
    "Ход с лимитом 👍\n",
    "    \n",
    "\n",
    "</div>"
   ]
  },
  {
   "cell_type": "code",
   "execution_count": null,
   "metadata": {},
   "outputs": [],
   "source": []
  }
 ],
 "metadata": {
  "ExecuteTimeLog": [
   {
    "duration": 888,
    "start_time": "2022-04-04T17:39:12.680Z"
   },
   {
    "duration": 4,
    "start_time": "2022-04-04T17:39:15.186Z"
   },
   {
    "duration": 3,
    "start_time": "2022-04-04T17:41:19.686Z"
   },
   {
    "duration": 94,
    "start_time": "2022-04-04T17:41:28.815Z"
   },
   {
    "duration": 4,
    "start_time": "2022-04-04T17:41:35.443Z"
   },
   {
    "duration": 19076,
    "start_time": "2022-04-04T17:41:38.410Z"
   },
   {
    "duration": 28,
    "start_time": "2022-04-04T17:41:57.487Z"
   },
   {
    "duration": 13,
    "start_time": "2022-04-04T17:42:00.395Z"
   },
   {
    "duration": 74,
    "start_time": "2022-04-04T17:47:20.240Z"
   },
   {
    "duration": 7,
    "start_time": "2022-04-04T17:47:28.017Z"
   },
   {
    "duration": 4,
    "start_time": "2022-04-04T17:51:44.023Z"
   },
   {
    "duration": 3,
    "start_time": "2022-04-04T17:53:02.645Z"
   },
   {
    "duration": 3,
    "start_time": "2022-04-04T17:53:26.020Z"
   },
   {
    "duration": 274,
    "start_time": "2022-04-04T18:03:34.932Z"
   },
   {
    "duration": 194,
    "start_time": "2022-04-04T18:03:53.205Z"
   },
   {
    "duration": 96,
    "start_time": "2022-04-04T18:04:21.760Z"
   },
   {
    "duration": 9,
    "start_time": "2022-04-04T18:04:26.310Z"
   },
   {
    "duration": 85,
    "start_time": "2022-04-04T18:04:59.909Z"
   },
   {
    "duration": 9,
    "start_time": "2022-04-04T18:05:01.511Z"
   },
   {
    "duration": 132,
    "start_time": "2022-04-04T18:05:39.269Z"
   },
   {
    "duration": 10,
    "start_time": "2022-04-04T18:05:40.595Z"
   },
   {
    "duration": 123,
    "start_time": "2022-04-04T18:05:58.591Z"
   },
   {
    "duration": 9,
    "start_time": "2022-04-04T18:05:59.055Z"
   },
   {
    "duration": 94,
    "start_time": "2022-04-04T18:07:15.837Z"
   },
   {
    "duration": 7,
    "start_time": "2022-04-04T18:07:23.227Z"
   },
   {
    "duration": 11,
    "start_time": "2022-04-04T18:07:27.801Z"
   },
   {
    "duration": 2,
    "start_time": "2022-04-04T18:09:12.277Z"
   },
   {
    "duration": 232,
    "start_time": "2022-04-04T18:13:33.854Z"
   },
   {
    "duration": 8,
    "start_time": "2022-04-04T18:13:48.641Z"
   },
   {
    "duration": 188,
    "start_time": "2022-04-04T18:14:07.065Z"
   },
   {
    "duration": 46,
    "start_time": "2022-04-04T18:14:19.779Z"
   },
   {
    "duration": 6,
    "start_time": "2022-04-04T18:14:20.870Z"
   },
   {
    "duration": 208,
    "start_time": "2022-04-04T18:17:05.226Z"
   },
   {
    "duration": 7,
    "start_time": "2022-04-04T18:17:05.676Z"
   },
   {
    "duration": 114,
    "start_time": "2022-04-04T18:17:12.619Z"
   },
   {
    "duration": 6,
    "start_time": "2022-04-04T18:17:14.301Z"
   },
   {
    "duration": 35,
    "start_time": "2022-04-04T18:18:46.063Z"
   },
   {
    "duration": 7,
    "start_time": "2022-04-04T18:18:46.698Z"
   },
   {
    "duration": 109,
    "start_time": "2022-04-04T18:19:26.986Z"
   },
   {
    "duration": 6,
    "start_time": "2022-04-04T18:19:27.217Z"
   },
   {
    "duration": 36,
    "start_time": "2022-04-04T18:23:43.253Z"
   },
   {
    "duration": 7,
    "start_time": "2022-04-04T18:23:44.032Z"
   },
   {
    "duration": 104,
    "start_time": "2022-04-04T18:30:40.643Z"
   },
   {
    "duration": 7,
    "start_time": "2022-04-04T18:30:41.081Z"
   },
   {
    "duration": 3,
    "start_time": "2022-04-04T18:31:57.422Z"
   },
   {
    "duration": 1231,
    "start_time": "2022-04-04T18:34:58.501Z"
   },
   {
    "duration": 17,
    "start_time": "2022-04-04T18:35:02.644Z"
   },
   {
    "duration": 1122,
    "start_time": "2022-04-04T18:35:18.433Z"
   },
   {
    "duration": 12,
    "start_time": "2022-04-04T18:35:19.559Z"
   },
   {
    "duration": 1223,
    "start_time": "2022-04-04T18:35:29.751Z"
   },
   {
    "duration": 13,
    "start_time": "2022-04-04T18:35:30.976Z"
   },
   {
    "duration": 17,
    "start_time": "2022-04-04T18:35:38.727Z"
   },
   {
    "duration": 20,
    "start_time": "2022-04-04T18:35:46.155Z"
   },
   {
    "duration": 1191,
    "start_time": "2022-04-04T18:35:49.835Z"
   },
   {
    "duration": 15,
    "start_time": "2022-04-04T18:35:51.029Z"
   },
   {
    "duration": 11,
    "start_time": "2022-04-04T18:35:56.023Z"
   },
   {
    "duration": 12,
    "start_time": "2022-04-04T18:36:10.041Z"
   },
   {
    "duration": 16,
    "start_time": "2022-04-04T18:36:25.617Z"
   },
   {
    "duration": 15,
    "start_time": "2022-04-04T18:36:50.120Z"
   },
   {
    "duration": 8,
    "start_time": "2022-04-04T18:37:00.225Z"
   },
   {
    "duration": 190,
    "start_time": "2022-04-04T18:43:08.221Z"
   },
   {
    "duration": 193,
    "start_time": "2022-04-04T18:43:18.062Z"
   },
   {
    "duration": 35,
    "start_time": "2022-04-04T18:43:48.843Z"
   },
   {
    "duration": 6,
    "start_time": "2022-04-04T18:43:53.196Z"
   },
   {
    "duration": 39,
    "start_time": "2022-04-04T18:45:36.452Z"
   },
   {
    "duration": 8,
    "start_time": "2022-04-04T18:45:36.921Z"
   },
   {
    "duration": 38,
    "start_time": "2022-04-04T18:46:42.732Z"
   },
   {
    "duration": 7,
    "start_time": "2022-04-04T18:46:43.190Z"
   },
   {
    "duration": 36,
    "start_time": "2022-04-04T18:51:04.649Z"
   },
   {
    "duration": 8,
    "start_time": "2022-04-04T18:51:10.220Z"
   },
   {
    "duration": 32,
    "start_time": "2022-04-04T18:51:48.511Z"
   },
   {
    "duration": 7,
    "start_time": "2022-04-04T18:51:49.649Z"
   },
   {
    "duration": 3,
    "start_time": "2022-04-04T18:52:55.898Z"
   },
   {
    "duration": 1130,
    "start_time": "2022-04-05T17:14:07.167Z"
   },
   {
    "duration": 4,
    "start_time": "2022-04-05T17:14:08.299Z"
   },
   {
    "duration": 9323,
    "start_time": "2022-04-05T17:14:08.305Z"
   },
   {
    "duration": 213,
    "start_time": "2022-04-05T17:14:17.631Z"
   },
   {
    "duration": 14,
    "start_time": "2022-04-05T17:14:17.846Z"
   },
   {
    "duration": 98,
    "start_time": "2022-04-05T17:14:17.862Z"
   },
   {
    "duration": 8,
    "start_time": "2022-04-05T17:14:17.961Z"
   },
   {
    "duration": 5,
    "start_time": "2022-04-05T17:14:17.971Z"
   },
   {
    "duration": 156,
    "start_time": "2022-04-05T17:14:17.978Z"
   },
   {
    "duration": 9,
    "start_time": "2022-04-05T17:14:18.137Z"
   },
   {
    "duration": 7,
    "start_time": "2022-04-05T17:14:18.147Z"
   },
   {
    "duration": 149,
    "start_time": "2022-04-05T17:14:18.155Z"
   },
   {
    "duration": 8,
    "start_time": "2022-04-05T17:14:18.305Z"
   },
   {
    "duration": 16,
    "start_time": "2022-04-05T17:14:18.315Z"
   },
   {
    "duration": 1292,
    "start_time": "2022-04-05T17:14:18.333Z"
   },
   {
    "duration": 8,
    "start_time": "2022-04-05T17:14:19.627Z"
   },
   {
    "duration": 18,
    "start_time": "2022-04-05T17:14:19.637Z"
   },
   {
    "duration": 67,
    "start_time": "2022-04-05T17:14:19.657Z"
   },
   {
    "duration": 7,
    "start_time": "2022-04-05T17:14:19.726Z"
   },
   {
    "duration": 68,
    "start_time": "2022-04-05T17:14:19.735Z"
   },
   {
    "duration": 6,
    "start_time": "2022-04-05T17:14:19.805Z"
   },
   {
    "duration": 5,
    "start_time": "2022-04-05T17:14:19.813Z"
   },
   {
    "duration": 6,
    "start_time": "2022-04-05T17:14:19.820Z"
   },
   {
    "duration": 6,
    "start_time": "2022-04-05T17:14:19.827Z"
   },
   {
    "duration": 5,
    "start_time": "2022-04-05T17:14:19.835Z"
   },
   {
    "duration": 5,
    "start_time": "2022-04-05T17:14:19.841Z"
   },
   {
    "duration": 12,
    "start_time": "2022-04-05T17:14:19.848Z"
   },
   {
    "duration": 6,
    "start_time": "2022-04-05T17:14:19.864Z"
   },
   {
    "duration": 14,
    "start_time": "2022-04-05T17:14:19.872Z"
   },
   {
    "duration": 859,
    "start_time": "2022-04-05T17:18:02.509Z"
   },
   {
    "duration": 11,
    "start_time": "2022-04-05T17:18:05.959Z"
   },
   {
    "duration": 871,
    "start_time": "2022-04-05T17:18:14.810Z"
   },
   {
    "duration": 11,
    "start_time": "2022-04-05T17:18:16.124Z"
   },
   {
    "duration": 8,
    "start_time": "2022-04-05T17:18:34.043Z"
   },
   {
    "duration": 7,
    "start_time": "2022-04-05T17:20:44.101Z"
   },
   {
    "duration": 10,
    "start_time": "2022-04-05T17:20:47.302Z"
   },
   {
    "duration": 8,
    "start_time": "2022-04-05T17:20:53.275Z"
   },
   {
    "duration": 12,
    "start_time": "2022-04-05T17:21:15.021Z"
   },
   {
    "duration": 11,
    "start_time": "2022-04-05T17:21:21.454Z"
   },
   {
    "duration": 10,
    "start_time": "2022-04-05T17:21:24.872Z"
   },
   {
    "duration": 11,
    "start_time": "2022-04-05T17:21:28.785Z"
   },
   {
    "duration": 10,
    "start_time": "2022-04-05T17:21:39.722Z"
   },
   {
    "duration": 10,
    "start_time": "2022-04-05T17:21:42.877Z"
   },
   {
    "duration": 11,
    "start_time": "2022-04-05T17:21:47.824Z"
   },
   {
    "duration": 11,
    "start_time": "2022-04-05T17:21:51.362Z"
   },
   {
    "duration": 10,
    "start_time": "2022-04-05T17:21:54.766Z"
   },
   {
    "duration": 10,
    "start_time": "2022-04-05T17:22:04.251Z"
   },
   {
    "duration": 10,
    "start_time": "2022-04-05T17:22:09.611Z"
   },
   {
    "duration": 12,
    "start_time": "2022-04-05T17:22:15.545Z"
   },
   {
    "duration": 1334,
    "start_time": "2022-04-05T17:24:41.054Z"
   },
   {
    "duration": 13,
    "start_time": "2022-04-05T17:24:42.390Z"
   },
   {
    "duration": 1163,
    "start_time": "2022-04-05T17:25:00.122Z"
   },
   {
    "duration": 9,
    "start_time": "2022-04-05T17:25:01.733Z"
   },
   {
    "duration": 1267,
    "start_time": "2022-04-05T17:25:11.175Z"
   },
   {
    "duration": 9,
    "start_time": "2022-04-05T17:25:12.444Z"
   },
   {
    "duration": 1094,
    "start_time": "2022-04-05T17:26:17.249Z"
   },
   {
    "duration": 9,
    "start_time": "2022-04-05T17:26:18.345Z"
   },
   {
    "duration": 12,
    "start_time": "2022-04-05T17:26:19.913Z"
   },
   {
    "duration": 12,
    "start_time": "2022-04-05T17:26:20.570Z"
   },
   {
    "duration": 1241,
    "start_time": "2022-04-05T17:26:40.582Z"
   },
   {
    "duration": 9,
    "start_time": "2022-04-05T17:26:41.825Z"
   },
   {
    "duration": 16,
    "start_time": "2022-04-05T17:26:41.835Z"
   },
   {
    "duration": 13,
    "start_time": "2022-04-05T17:26:43.320Z"
   },
   {
    "duration": 257,
    "start_time": "2022-04-05T17:42:36.852Z"
   },
   {
    "duration": 198,
    "start_time": "2022-04-05T17:45:15.313Z"
   },
   {
    "duration": 290,
    "start_time": "2022-04-05T17:45:21.389Z"
   },
   {
    "duration": 10,
    "start_time": "2022-04-05T17:45:26.059Z"
   },
   {
    "duration": 11,
    "start_time": "2022-04-05T17:52:07.362Z"
   },
   {
    "duration": 7,
    "start_time": "2022-04-05T17:54:25.352Z"
   },
   {
    "duration": 13,
    "start_time": "2022-04-05T17:54:46.462Z"
   },
   {
    "duration": 679,
    "start_time": "2022-04-05T17:55:03.634Z"
   },
   {
    "duration": 542,
    "start_time": "2022-04-05T17:55:11.640Z"
   },
   {
    "duration": 375,
    "start_time": "2022-04-05T17:55:17.901Z"
   },
   {
    "duration": 223,
    "start_time": "2022-04-05T18:08:33.604Z"
   },
   {
    "duration": 224,
    "start_time": "2022-04-05T18:08:42.274Z"
   },
   {
    "duration": 195,
    "start_time": "2022-04-05T18:09:06.048Z"
   },
   {
    "duration": 189,
    "start_time": "2022-04-05T18:10:24.090Z"
   },
   {
    "duration": 141,
    "start_time": "2022-04-05T18:11:22.679Z"
   },
   {
    "duration": 8,
    "start_time": "2022-04-05T18:11:29.445Z"
   },
   {
    "duration": 223,
    "start_time": "2022-04-05T18:13:06.779Z"
   },
   {
    "duration": 9,
    "start_time": "2022-04-05T18:13:07.334Z"
   },
   {
    "duration": 137,
    "start_time": "2022-04-05T18:13:20.528Z"
   },
   {
    "duration": 9,
    "start_time": "2022-04-05T18:13:21.290Z"
   },
   {
    "duration": 215,
    "start_time": "2022-04-05T18:18:52.634Z"
   },
   {
    "duration": 8,
    "start_time": "2022-04-05T18:18:53.188Z"
   },
   {
    "duration": 129,
    "start_time": "2022-04-05T18:19:24.469Z"
   },
   {
    "duration": 8,
    "start_time": "2022-04-05T18:19:25.177Z"
   },
   {
    "duration": 135,
    "start_time": "2022-04-05T18:20:22.141Z"
   },
   {
    "duration": 8,
    "start_time": "2022-04-05T18:20:22.695Z"
   },
   {
    "duration": 125,
    "start_time": "2022-04-05T18:20:31.754Z"
   },
   {
    "duration": 9,
    "start_time": "2022-04-05T18:20:32.388Z"
   },
   {
    "duration": 134,
    "start_time": "2022-04-05T18:20:50.482Z"
   },
   {
    "duration": 8,
    "start_time": "2022-04-05T18:20:51.109Z"
   },
   {
    "duration": 193,
    "start_time": "2022-04-05T18:21:12.204Z"
   },
   {
    "duration": 198,
    "start_time": "2022-04-05T18:21:36.831Z"
   },
   {
    "duration": 133,
    "start_time": "2022-04-05T18:21:53.491Z"
   },
   {
    "duration": 9,
    "start_time": "2022-04-05T18:21:54.600Z"
   },
   {
    "duration": 127,
    "start_time": "2022-04-05T18:22:06.831Z"
   },
   {
    "duration": 10,
    "start_time": "2022-04-05T18:22:07.535Z"
   },
   {
    "duration": 134,
    "start_time": "2022-04-05T18:22:25.427Z"
   },
   {
    "duration": 9,
    "start_time": "2022-04-05T18:22:25.929Z"
   },
   {
    "duration": 137,
    "start_time": "2022-04-05T18:23:00.024Z"
   },
   {
    "duration": 11,
    "start_time": "2022-04-05T18:23:00.715Z"
   },
   {
    "duration": 130,
    "start_time": "2022-04-05T18:23:42.361Z"
   },
   {
    "duration": 8,
    "start_time": "2022-04-05T18:23:42.915Z"
   },
   {
    "duration": 11,
    "start_time": "2022-04-05T18:26:11.785Z"
   },
   {
    "duration": 76,
    "start_time": "2022-04-05T18:26:23.387Z"
   },
   {
    "duration": 92,
    "start_time": "2022-04-05T18:26:39.586Z"
   },
   {
    "duration": 99,
    "start_time": "2022-04-05T18:27:08.155Z"
   },
   {
    "duration": 101,
    "start_time": "2022-04-05T18:27:19.759Z"
   },
   {
    "duration": 151,
    "start_time": "2022-04-05T18:27:33.692Z"
   },
   {
    "duration": 99,
    "start_time": "2022-04-05T18:27:36.485Z"
   },
   {
    "duration": 94,
    "start_time": "2022-04-05T18:28:05.412Z"
   },
   {
    "duration": 149,
    "start_time": "2022-04-05T18:31:37.315Z"
   },
   {
    "duration": 214,
    "start_time": "2022-04-05T18:32:16.328Z"
   },
   {
    "duration": 95,
    "start_time": "2022-04-05T18:33:16.891Z"
   },
   {
    "duration": 123,
    "start_time": "2022-04-05T18:33:33.780Z"
   },
   {
    "duration": 137,
    "start_time": "2022-04-05T18:34:10.019Z"
   },
   {
    "duration": 121,
    "start_time": "2022-04-05T18:34:25.026Z"
   },
   {
    "duration": 129,
    "start_time": "2022-04-05T18:34:42.391Z"
   },
   {
    "duration": 194,
    "start_time": "2022-04-05T18:36:12.403Z"
   },
   {
    "duration": 175,
    "start_time": "2022-04-05T18:36:27.352Z"
   },
   {
    "duration": 11,
    "start_time": "2022-04-05T18:36:32.465Z"
   },
   {
    "duration": 191,
    "start_time": "2022-04-05T18:40:49.819Z"
   },
   {
    "duration": 192,
    "start_time": "2022-04-05T18:41:01.083Z"
   },
   {
    "duration": 194,
    "start_time": "2022-04-05T18:41:48.216Z"
   },
   {
    "duration": 206,
    "start_time": "2022-04-05T18:41:54.568Z"
   },
   {
    "duration": 481,
    "start_time": "2022-04-05T18:44:23.305Z"
   },
   {
    "duration": 7,
    "start_time": "2022-04-05T18:44:24.782Z"
   },
   {
    "duration": 103,
    "start_time": "2022-04-05T18:46:26.037Z"
   },
   {
    "duration": 7,
    "start_time": "2022-04-05T18:46:26.741Z"
   },
   {
    "duration": 994,
    "start_time": "2022-04-05T18:50:17.690Z"
   },
   {
    "duration": 12,
    "start_time": "2022-04-05T18:50:19.144Z"
   },
   {
    "duration": 237,
    "start_time": "2022-04-05T18:50:50.495Z"
   },
   {
    "duration": 8,
    "start_time": "2022-04-05T18:50:51.363Z"
   },
   {
    "duration": 1425,
    "start_time": "2022-04-05T18:52:38.089Z"
   },
   {
    "duration": 5,
    "start_time": "2022-04-05T18:52:39.516Z"
   },
   {
    "duration": 7731,
    "start_time": "2022-04-05T18:52:39.523Z"
   },
   {
    "duration": 184,
    "start_time": "2022-04-05T18:52:47.256Z"
   },
   {
    "duration": 19,
    "start_time": "2022-04-05T18:52:47.443Z"
   },
   {
    "duration": 93,
    "start_time": "2022-04-05T18:52:47.464Z"
   },
   {
    "duration": 9,
    "start_time": "2022-04-05T18:52:47.560Z"
   },
   {
    "duration": 9,
    "start_time": "2022-04-05T18:52:47.572Z"
   },
   {
    "duration": 149,
    "start_time": "2022-04-05T18:52:47.584Z"
   },
   {
    "duration": 12,
    "start_time": "2022-04-05T18:52:47.737Z"
   },
   {
    "duration": 6,
    "start_time": "2022-04-05T18:52:47.751Z"
   },
   {
    "duration": 137,
    "start_time": "2022-04-05T18:52:47.759Z"
   },
   {
    "duration": 10,
    "start_time": "2022-04-05T18:52:47.899Z"
   },
   {
    "duration": 11,
    "start_time": "2022-04-05T18:52:47.911Z"
   },
   {
    "duration": 1558,
    "start_time": "2022-04-05T18:52:47.925Z"
   },
   {
    "duration": 8,
    "start_time": "2022-04-05T18:52:49.486Z"
   },
   {
    "duration": 19,
    "start_time": "2022-04-05T18:52:49.502Z"
   },
   {
    "duration": 65,
    "start_time": "2022-04-05T18:52:49.523Z"
   },
   {
    "duration": 7,
    "start_time": "2022-04-05T18:52:49.590Z"
   },
   {
    "duration": 66,
    "start_time": "2022-04-05T18:52:49.599Z"
   },
   {
    "duration": 8,
    "start_time": "2022-04-05T18:52:49.667Z"
   },
   {
    "duration": 8,
    "start_time": "2022-04-05T18:52:49.677Z"
   },
   {
    "duration": 1425,
    "start_time": "2022-04-05T18:52:49.687Z"
   },
   {
    "duration": 9,
    "start_time": "2022-04-05T18:52:51.115Z"
   },
   {
    "duration": 21,
    "start_time": "2022-04-05T18:52:51.126Z"
   },
   {
    "duration": 12,
    "start_time": "2022-04-05T18:52:51.149Z"
   },
   {
    "duration": 293,
    "start_time": "2022-04-05T18:52:51.163Z"
   },
   {
    "duration": 11,
    "start_time": "2022-04-05T18:52:51.460Z"
   },
   {
    "duration": 15,
    "start_time": "2022-04-05T18:52:51.472Z"
   },
   {
    "duration": 391,
    "start_time": "2022-04-05T18:52:51.489Z"
   },
   {
    "duration": 3,
    "start_time": "2022-04-05T18:52:51.882Z"
   },
   {
    "duration": 136,
    "start_time": "2022-04-05T18:52:51.887Z"
   },
   {
    "duration": 9,
    "start_time": "2022-04-05T18:52:52.025Z"
   },
   {
    "duration": 139,
    "start_time": "2022-04-05T18:52:52.036Z"
   },
   {
    "duration": 126,
    "start_time": "2022-04-05T18:52:52.177Z"
   },
   {
    "duration": 9,
    "start_time": "2022-04-05T18:52:52.304Z"
   },
   {
    "duration": 2075,
    "start_time": "2022-04-05T22:04:38.206Z"
   },
   {
    "duration": 5,
    "start_time": "2022-04-05T22:04:40.284Z"
   },
   {
    "duration": 5913,
    "start_time": "2022-04-05T22:04:40.291Z"
   },
   {
    "duration": 154,
    "start_time": "2022-04-05T22:04:46.208Z"
   },
   {
    "duration": 18,
    "start_time": "2022-04-05T22:04:46.365Z"
   },
   {
    "duration": 94,
    "start_time": "2022-04-05T22:04:46.385Z"
   },
   {
    "duration": 10,
    "start_time": "2022-04-05T22:04:46.482Z"
   },
   {
    "duration": 5,
    "start_time": "2022-04-05T22:04:46.495Z"
   },
   {
    "duration": 150,
    "start_time": "2022-04-05T22:04:46.502Z"
   },
   {
    "duration": 12,
    "start_time": "2022-04-05T22:04:46.657Z"
   },
   {
    "duration": 6,
    "start_time": "2022-04-05T22:04:46.671Z"
   },
   {
    "duration": 141,
    "start_time": "2022-04-05T22:04:46.680Z"
   },
   {
    "duration": 9,
    "start_time": "2022-04-05T22:04:46.823Z"
   },
   {
    "duration": 4,
    "start_time": "2022-04-05T22:04:46.834Z"
   },
   {
    "duration": 1524,
    "start_time": "2022-04-05T22:04:46.840Z"
   },
   {
    "duration": 15,
    "start_time": "2022-04-05T22:04:48.366Z"
   },
   {
    "duration": 22,
    "start_time": "2022-04-05T22:04:48.383Z"
   },
   {
    "duration": 58,
    "start_time": "2022-04-05T22:04:48.408Z"
   },
   {
    "duration": 9,
    "start_time": "2022-04-05T22:04:48.468Z"
   },
   {
    "duration": 63,
    "start_time": "2022-04-05T22:04:48.479Z"
   },
   {
    "duration": 9,
    "start_time": "2022-04-05T22:04:48.544Z"
   },
   {
    "duration": 23,
    "start_time": "2022-04-05T22:04:48.555Z"
   },
   {
    "duration": 1439,
    "start_time": "2022-04-05T22:04:48.580Z"
   },
   {
    "duration": 14,
    "start_time": "2022-04-05T22:04:50.022Z"
   },
   {
    "duration": 36,
    "start_time": "2022-04-05T22:04:50.039Z"
   },
   {
    "duration": 17,
    "start_time": "2022-04-05T22:04:50.078Z"
   },
   {
    "duration": 286,
    "start_time": "2022-04-05T22:04:50.098Z"
   },
   {
    "duration": 15,
    "start_time": "2022-04-05T22:04:50.389Z"
   },
   {
    "duration": 9,
    "start_time": "2022-04-05T22:04:50.407Z"
   },
   {
    "duration": 622,
    "start_time": "2022-04-05T22:04:50.418Z"
   },
   {
    "duration": 4,
    "start_time": "2022-04-05T22:04:51.042Z"
   },
   {
    "duration": 130,
    "start_time": "2022-04-05T22:04:51.048Z"
   },
   {
    "duration": 9,
    "start_time": "2022-04-05T22:04:51.181Z"
   },
   {
    "duration": 252,
    "start_time": "2022-04-05T22:04:51.192Z"
   },
   {
    "duration": 126,
    "start_time": "2022-04-05T22:04:51.447Z"
   },
   {
    "duration": 15,
    "start_time": "2022-04-05T22:04:51.576Z"
   },
   {
    "duration": 19,
    "start_time": "2022-04-05T22:08:04.762Z"
   },
   {
    "duration": 62,
    "start_time": "2022-04-05T22:11:00.768Z"
   },
   {
    "duration": 65,
    "start_time": "2022-04-05T22:11:32.559Z"
   },
   {
    "duration": 66,
    "start_time": "2022-04-06T19:01:53.826Z"
   },
   {
    "duration": 7,
    "start_time": "2022-04-06T19:01:55.465Z"
   },
   {
    "duration": 1901,
    "start_time": "2022-04-06T19:01:59.712Z"
   },
   {
    "duration": 4,
    "start_time": "2022-04-06T19:02:01.616Z"
   },
   {
    "duration": 5645,
    "start_time": "2022-04-06T19:02:01.622Z"
   },
   {
    "duration": 159,
    "start_time": "2022-04-06T19:02:07.269Z"
   },
   {
    "duration": 18,
    "start_time": "2022-04-06T19:02:07.431Z"
   },
   {
    "duration": 94,
    "start_time": "2022-04-06T19:02:21.921Z"
   },
   {
    "duration": 11,
    "start_time": "2022-04-06T19:02:22.670Z"
   },
   {
    "duration": 89,
    "start_time": "2022-04-06T19:02:29.254Z"
   },
   {
    "duration": 9,
    "start_time": "2022-04-06T19:02:29.682Z"
   },
   {
    "duration": 135,
    "start_time": "2022-04-06T19:02:41.347Z"
   },
   {
    "duration": 44,
    "start_time": "2022-04-06T19:02:42.040Z"
   },
   {
    "duration": 235,
    "start_time": "2022-04-06T19:05:23.287Z"
   },
   {
    "duration": 41,
    "start_time": "2022-04-06T19:05:23.937Z"
   },
   {
    "duration": 181,
    "start_time": "2022-04-06T19:05:51.929Z"
   },
   {
    "duration": 64,
    "start_time": "2022-04-06T19:06:04.854Z"
   },
   {
    "duration": 12,
    "start_time": "2022-04-06T19:06:07.953Z"
   },
   {
    "duration": 64,
    "start_time": "2022-04-06T19:07:17.843Z"
   },
   {
    "duration": 9,
    "start_time": "2022-04-06T19:07:18.352Z"
   },
   {
    "duration": 112,
    "start_time": "2022-04-06T19:13:52.818Z"
   },
   {
    "duration": 11,
    "start_time": "2022-04-06T19:13:53.416Z"
   },
   {
    "duration": 119,
    "start_time": "2022-04-06T19:14:43.303Z"
   },
   {
    "duration": 15,
    "start_time": "2022-04-06T19:14:44.422Z"
   },
   {
    "duration": 17,
    "start_time": "2022-04-06T19:14:54.447Z"
   },
   {
    "duration": 113,
    "start_time": "2022-04-06T19:16:07.302Z"
   },
   {
    "duration": 16,
    "start_time": "2022-04-06T19:16:07.417Z"
   },
   {
    "duration": 115,
    "start_time": "2022-04-06T19:16:12.542Z"
   },
   {
    "duration": 17,
    "start_time": "2022-04-06T19:16:12.856Z"
   },
   {
    "duration": 116,
    "start_time": "2022-04-06T19:16:18.470Z"
   },
   {
    "duration": 17,
    "start_time": "2022-04-06T19:16:18.874Z"
   },
   {
    "duration": 124,
    "start_time": "2022-04-06T19:16:41.621Z"
   },
   {
    "duration": 18,
    "start_time": "2022-04-06T19:16:42.305Z"
   },
   {
    "duration": 120,
    "start_time": "2022-04-06T19:17:07.876Z"
   },
   {
    "duration": 16,
    "start_time": "2022-04-06T19:17:08.296Z"
   },
   {
    "duration": 118,
    "start_time": "2022-04-06T19:17:18.759Z"
   },
   {
    "duration": 12,
    "start_time": "2022-04-06T19:17:19.058Z"
   },
   {
    "duration": 159,
    "start_time": "2022-04-06T19:18:15.365Z"
   },
   {
    "duration": 60,
    "start_time": "2022-04-06T19:19:17.275Z"
   },
   {
    "duration": 56,
    "start_time": "2022-04-06T19:19:23.896Z"
   },
   {
    "duration": 10,
    "start_time": "2022-04-06T19:19:31.887Z"
   },
   {
    "duration": 54,
    "start_time": "2022-04-06T19:19:46.240Z"
   },
   {
    "duration": 9,
    "start_time": "2022-04-06T19:19:46.667Z"
   },
   {
    "duration": 127,
    "start_time": "2022-04-06T19:20:15.449Z"
   },
   {
    "duration": 11,
    "start_time": "2022-04-06T19:20:15.981Z"
   },
   {
    "duration": 1721,
    "start_time": "2022-04-06T19:20:50.813Z"
   },
   {
    "duration": 5,
    "start_time": "2022-04-06T19:20:52.538Z"
   },
   {
    "duration": 5659,
    "start_time": "2022-04-06T19:20:52.546Z"
   },
   {
    "duration": 146,
    "start_time": "2022-04-06T19:20:58.209Z"
   },
   {
    "duration": 18,
    "start_time": "2022-04-06T19:20:58.357Z"
   },
   {
    "duration": 91,
    "start_time": "2022-04-06T19:20:58.377Z"
   },
   {
    "duration": 9,
    "start_time": "2022-04-06T19:20:58.470Z"
   },
   {
    "duration": 4,
    "start_time": "2022-04-06T19:20:58.483Z"
   },
   {
    "duration": 148,
    "start_time": "2022-04-06T19:20:58.490Z"
   },
   {
    "duration": 14,
    "start_time": "2022-04-06T19:20:58.645Z"
   },
   {
    "duration": 4,
    "start_time": "2022-04-06T19:20:58.662Z"
   },
   {
    "duration": 128,
    "start_time": "2022-04-06T19:20:58.669Z"
   },
   {
    "duration": 12,
    "start_time": "2022-04-06T19:20:58.800Z"
   },
   {
    "duration": 4,
    "start_time": "2022-04-06T19:20:58.815Z"
   },
   {
    "duration": 2373,
    "start_time": "2022-04-06T19:20:58.822Z"
   },
   {
    "duration": 12,
    "start_time": "2022-04-06T19:21:01.199Z"
   },
   {
    "duration": 32,
    "start_time": "2022-04-06T19:21:01.214Z"
   },
   {
    "duration": 59,
    "start_time": "2022-04-06T19:21:01.249Z"
   },
   {
    "duration": 9,
    "start_time": "2022-04-06T19:21:01.311Z"
   },
   {
    "duration": 62,
    "start_time": "2022-04-06T19:21:01.322Z"
   },
   {
    "duration": 9,
    "start_time": "2022-04-06T19:21:01.386Z"
   },
   {
    "duration": 11,
    "start_time": "2022-04-06T19:21:01.397Z"
   },
   {
    "duration": 1445,
    "start_time": "2022-04-06T19:21:01.410Z"
   },
   {
    "duration": 16,
    "start_time": "2022-04-06T19:21:02.858Z"
   },
   {
    "duration": 15,
    "start_time": "2022-04-06T19:21:02.876Z"
   },
   {
    "duration": 16,
    "start_time": "2022-04-06T19:21:02.893Z"
   },
   {
    "duration": 292,
    "start_time": "2022-04-06T19:21:02.911Z"
   },
   {
    "duration": 16,
    "start_time": "2022-04-06T19:21:03.208Z"
   },
   {
    "duration": 11,
    "start_time": "2022-04-06T19:21:03.226Z"
   },
   {
    "duration": 592,
    "start_time": "2022-04-06T19:21:03.239Z"
   },
   {
    "duration": 4,
    "start_time": "2022-04-06T19:21:03.833Z"
   },
   {
    "duration": 121,
    "start_time": "2022-04-06T19:21:03.839Z"
   },
   {
    "duration": 11,
    "start_time": "2022-04-06T19:21:03.962Z"
   },
   {
    "duration": 224,
    "start_time": "2022-04-06T19:21:03.975Z"
   },
   {
    "duration": 133,
    "start_time": "2022-04-06T19:21:04.202Z"
   },
   {
    "duration": 12,
    "start_time": "2022-04-06T19:21:04.338Z"
   },
   {
    "duration": 2056,
    "start_time": "2022-04-07T07:53:35.249Z"
   },
   {
    "duration": 6,
    "start_time": "2022-04-07T07:53:37.309Z"
   },
   {
    "duration": 9627,
    "start_time": "2022-04-07T07:53:37.317Z"
   },
   {
    "duration": 177,
    "start_time": "2022-04-07T07:53:46.947Z"
   },
   {
    "duration": 20,
    "start_time": "2022-04-07T07:53:47.126Z"
   },
   {
    "duration": 94,
    "start_time": "2022-04-07T07:53:47.149Z"
   },
   {
    "duration": 12,
    "start_time": "2022-04-07T07:53:47.246Z"
   },
   {
    "duration": 4,
    "start_time": "2022-04-07T07:53:47.261Z"
   },
   {
    "duration": 165,
    "start_time": "2022-04-07T07:53:47.268Z"
   },
   {
    "duration": 12,
    "start_time": "2022-04-07T07:53:47.436Z"
   },
   {
    "duration": 7,
    "start_time": "2022-04-07T07:53:47.450Z"
   },
   {
    "duration": 145,
    "start_time": "2022-04-07T07:53:47.460Z"
   },
   {
    "duration": 12,
    "start_time": "2022-04-07T07:53:47.608Z"
   },
   {
    "duration": 5,
    "start_time": "2022-04-07T07:53:47.623Z"
   },
   {
    "duration": 3094,
    "start_time": "2022-04-07T07:53:47.630Z"
   },
   {
    "duration": 11,
    "start_time": "2022-04-07T07:53:50.726Z"
   },
   {
    "duration": 28,
    "start_time": "2022-04-07T07:53:50.739Z"
   },
   {
    "duration": 63,
    "start_time": "2022-04-07T07:53:50.783Z"
   },
   {
    "duration": 14,
    "start_time": "2022-04-07T07:53:50.848Z"
   },
   {
    "duration": 65,
    "start_time": "2022-04-07T07:53:50.864Z"
   },
   {
    "duration": 8,
    "start_time": "2022-04-07T07:53:50.932Z"
   },
   {
    "duration": 7,
    "start_time": "2022-04-07T07:53:50.942Z"
   },
   {
    "duration": 1402,
    "start_time": "2022-04-07T07:53:50.952Z"
   },
   {
    "duration": 11,
    "start_time": "2022-04-07T07:53:52.356Z"
   },
   {
    "duration": 31,
    "start_time": "2022-04-07T07:53:52.369Z"
   },
   {
    "duration": 15,
    "start_time": "2022-04-07T07:53:52.402Z"
   },
   {
    "duration": 1185,
    "start_time": "2022-04-07T07:53:52.419Z"
   },
   {
    "duration": 15,
    "start_time": "2022-04-07T07:53:53.609Z"
   },
   {
    "duration": 10,
    "start_time": "2022-04-07T07:53:53.626Z"
   },
   {
    "duration": 563,
    "start_time": "2022-04-07T07:53:53.638Z"
   },
   {
    "duration": 4,
    "start_time": "2022-04-07T07:53:54.203Z"
   },
   {
    "duration": 122,
    "start_time": "2022-04-07T07:53:54.209Z"
   },
   {
    "duration": 11,
    "start_time": "2022-04-07T07:53:54.333Z"
   },
   {
    "duration": 209,
    "start_time": "2022-04-07T07:53:54.346Z"
   },
   {
    "duration": 131,
    "start_time": "2022-04-07T07:53:54.557Z"
   },
   {
    "duration": 13,
    "start_time": "2022-04-07T07:53:54.691Z"
   },
   {
    "duration": 64,
    "start_time": "2022-04-07T07:55:07.151Z"
   },
   {
    "duration": 11,
    "start_time": "2022-04-07T07:55:07.957Z"
   },
   {
    "duration": 60,
    "start_time": "2022-04-07T07:55:12.234Z"
   },
   {
    "duration": 9,
    "start_time": "2022-04-07T07:55:12.486Z"
   },
   {
    "duration": 46,
    "start_time": "2022-04-07T15:12:40.038Z"
   },
   {
    "duration": 1413,
    "start_time": "2022-04-07T15:12:56.064Z"
   },
   {
    "duration": 3,
    "start_time": "2022-04-07T15:12:57.479Z"
   },
   {
    "duration": 7616,
    "start_time": "2022-04-07T15:12:57.483Z"
   },
   {
    "duration": 231,
    "start_time": "2022-04-07T15:13:05.101Z"
   },
   {
    "duration": 12,
    "start_time": "2022-04-07T15:13:05.333Z"
   },
   {
    "duration": 95,
    "start_time": "2022-04-07T15:13:05.347Z"
   },
   {
    "duration": 7,
    "start_time": "2022-04-07T15:13:05.444Z"
   },
   {
    "duration": 8,
    "start_time": "2022-04-07T15:13:05.452Z"
   },
   {
    "duration": 167,
    "start_time": "2022-04-07T15:13:05.461Z"
   },
   {
    "duration": 7,
    "start_time": "2022-04-07T15:13:05.631Z"
   },
   {
    "duration": 4,
    "start_time": "2022-04-07T15:13:05.640Z"
   },
   {
    "duration": 144,
    "start_time": "2022-04-07T15:13:05.645Z"
   },
   {
    "duration": 6,
    "start_time": "2022-04-07T15:13:05.790Z"
   },
   {
    "duration": 10,
    "start_time": "2022-04-07T15:13:05.798Z"
   },
   {
    "duration": 1141,
    "start_time": "2022-04-07T15:13:05.809Z"
   },
   {
    "duration": 12,
    "start_time": "2022-04-07T15:13:06.951Z"
   },
   {
    "duration": 13,
    "start_time": "2022-04-07T15:13:06.965Z"
   },
   {
    "duration": 63,
    "start_time": "2022-04-07T15:13:06.980Z"
   },
   {
    "duration": 8,
    "start_time": "2022-04-07T15:13:07.045Z"
   },
   {
    "duration": 66,
    "start_time": "2022-04-07T15:13:07.055Z"
   },
   {
    "duration": 6,
    "start_time": "2022-04-07T15:13:07.123Z"
   },
   {
    "duration": 8,
    "start_time": "2022-04-07T15:13:07.130Z"
   },
   {
    "duration": 1118,
    "start_time": "2022-04-07T15:13:07.140Z"
   },
   {
    "duration": 8,
    "start_time": "2022-04-07T15:13:08.259Z"
   },
   {
    "duration": 13,
    "start_time": "2022-04-07T15:13:08.269Z"
   },
   {
    "duration": 9,
    "start_time": "2022-04-07T15:13:08.284Z"
   },
   {
    "duration": 298,
    "start_time": "2022-04-07T15:13:08.295Z"
   },
   {
    "duration": 10,
    "start_time": "2022-04-07T15:13:08.597Z"
   },
   {
    "duration": 8,
    "start_time": "2022-04-07T15:13:08.608Z"
   },
   {
    "duration": 442,
    "start_time": "2022-04-07T15:13:08.618Z"
   },
   {
    "duration": 3,
    "start_time": "2022-04-07T15:13:09.062Z"
   },
   {
    "duration": 136,
    "start_time": "2022-04-07T15:13:09.066Z"
   },
   {
    "duration": 6,
    "start_time": "2022-04-07T15:13:09.204Z"
   },
   {
    "duration": 117,
    "start_time": "2022-04-07T15:13:09.211Z"
   },
   {
    "duration": 143,
    "start_time": "2022-04-07T15:13:09.330Z"
   },
   {
    "duration": 8,
    "start_time": "2022-04-07T15:13:09.474Z"
   }
  ],
  "colab": {
   "name": "AdvansedSQLProjectTemplate.ipynb",
   "provenance": []
  },
  "kernelspec": {
   "display_name": "Python 3 (ipykernel)",
   "language": "python",
   "name": "python3"
  },
  "language_info": {
   "codemirror_mode": {
    "name": "ipython",
    "version": 3
   },
   "file_extension": ".py",
   "mimetype": "text/x-python",
   "name": "python",
   "nbconvert_exporter": "python",
   "pygments_lexer": "ipython3",
   "version": "3.9.5"
  },
  "toc": {
   "base_numbering": 1,
   "nav_menu": {},
   "number_sections": false,
   "sideBar": true,
   "skip_h1_title": false,
   "title_cell": "Table of Contents",
   "title_sidebar": "Contents",
   "toc_cell": false,
   "toc_position": {
    "height": "calc(100% - 180px)",
    "left": "10px",
    "top": "150px",
    "width": "165px"
   },
   "toc_section_display": true,
   "toc_window_display": true
  }
 },
 "nbformat": 4,
 "nbformat_minor": 1
}
